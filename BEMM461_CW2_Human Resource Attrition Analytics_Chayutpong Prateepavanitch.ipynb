{
 "cells": [
  {
   "cell_type": "markdown",
   "metadata": {},
   "source": [
    "# CW2: Human Resource Attrition Analytics, Chayutpong Prateepavanitch \n",
    "\n",
    "## Table of Links\n",
    "### Table\n",
    "| Description | Link |\n",
    "| -- | -- |\n",
    "| Reflective blog | https://ele.exeter.ac.uk/mod/oublog/viewpost.php?post=46482|\n",
    "| | https://ele.exeter.ac.uk/mod/oublog/viewpost.php?post=46541|\n",
    "| Chosen Dataset | IBM HR Analytics Dataset [https://www.kaggle.com/datasets/pavansubhasht/ibm-hr-analytics-attrition-dataset?resource=download]  |\n",
    "| GitHub Link | https://github.com/Chayutpong-p/HR_Attrition_Management_Dashboard.git |\n",
    "\n",
    "## Table of Contents\n",
    "1. Introduction\n",
    "2. Project Context\n",
    "3. Aims, Objectives & Audience\n",
    "4. Project Dashboard\n",
    "5. Articulation of Decision-Making Process\n",
    "6. Review of Analytics Methods Chosen\n",
    "7. Review of Available Tools\n",
    "8. Review of Chosen Datasets\n",
    "9. Visualisation of Data with Accompanying Code\n",
    "10. Reflective Evaluation\n",
    "11. Conclusion\n",
    "12. References\n"
   ]
  },
  {
   "cell_type": "markdown",
   "metadata": {},
   "source": [
    "## 1. Introduction\n",
    "\n",
    "In this report, I discuss the conception, design, and deployment of the Human Resource Attrition Analytics Dashboard designed to resolve companies’ continuous attrition issue. Employee attrition is the term used to describe employee leaving a company, involuntarily or willingly, leading to greater costs, disruptions and productivity declines. The dashboard provides Human Resource (HR) managers and business leaders with the ability to see what drives attrition and make proactive decisions based on this information.\n",
    "\n",
    "The IBM HR Analytics Dataset was used for this project to bring analytic techniques and visualization principles to the data, which is turned into actionable HR information. The dashboard covers general trends, demographics, job satisfaction, and job-based metrics. With the Dash platform in Python, this report shows how data can be presented in an efficient way to facilitate management decisions and decrease employee turnover.\n"
   ]
  },
  {
   "cell_type": "markdown",
   "metadata": {},
   "source": [
    "## 2. Project Context\n",
    "Companies today work in a world where the talent pool is ever more competitive. Attrition is one of the biggest impact to the business because of the recruitment, onboarding and lost productivity that it causes. Analyzing and managing attrition patterns becomes increasingly crucial as organizations aim for workforce stability and productivity.\n",
    "\n",
    "It was IBM HR Analytics Dataset chosen since it has a solid base for analysing attrition. It contains demographics, satisfaction, pay information, and work function. In exploring these, this research aims to:\n",
    "\n",
    "- Identify the main drivers of employee attrition.\n",
    "\n",
    "- Highlight trends and patterns in attrition rates across departments, genders, age groups, and job satisfaction scores.\n",
    "\n",
    "- Provide actionable recommendations for HR managers to improve employee retention strategies.\n",
    "\n",
    "This dashboard is created for the HR managers and C-suite leaders who need to plan and visualize how to effectively deal with attrition."
   ]
  },
  {
   "cell_type": "code",
   "execution_count": 304,
   "metadata": {},
   "outputs": [
    {
     "data": {
      "image/jpeg": "[encoded data removed]",
      "text/plain": [
       "<IPython.core.display.Image object>"
      ]
     },
     "metadata": {},
     "output_type": "display_data"
    }
   ],
   "source": [
    "from IPython.display import Image, display\n",
    "\n",
    "# Display the image from the raw link\n",
    "display(Image(\"https://raw.githubusercontent.com/Chayutpong-p/HR_Attrition_Management_Dashboard/main/Dashboard%20Output.jpg\"))\n"
   ]
  },
  {
   "cell_type": "markdown",
   "metadata": {},
   "source": [
    "## 3. Aims, Objectives & Audience\n",
    "\n",
    "**Aims**\n",
    "\n",
    "The mission of the project is to develop an HR attrition dashboard, visualizing employee data, finding attrition reasons and providing actionable information for HR managers and business leaders.\n",
    "\n",
    "**Objectives**\n",
    "\n",
    "1. **Monitor Overall Attrition Trends**: Provide insights into attrition rates and the proportion of employees staying versus leaving and anyother factors.\n",
    "\n",
    "2. **Analyze Attrition by Demographics**: Visualize attrition patterns across key demographic groups, including age, gender.\n",
    "\n",
    "3. **Assess Income & Satisfaction Metrics**: Examine how job satisfaction and income influence attrition.\n",
    "\n",
    "4. **Evaluate the Overlooked Factors**: Analyze stock level and business travel contributions to attrition.\n",
    "\n",
    "5. **Identify Actionable Recommendations**: Highlight insights that HR managers can use to mitigate employee attrition and improve retention.\n",
    "\n",
    "**Audience**\n",
    "\n",
    "The primary audience for this dashboard includes:\n",
    "\n",
    "1. **HR Managers**: To identify high-risk groups and prioritize retention strategies.\n",
    "\n",
    "2. **Senior Executives**: To evaluate departmental performance and implement workforce policies.\n",
    "\n",
    "The dashboard is built to be user-friendly and straightforward so that anyone with limited technical knowledge can still gain valuable insights without any data analysis experience."
   ]
  },
  {
   "cell_type": "markdown",
   "metadata": {},
   "source": [
    "## 4. Project Dashboard\n",
    "This project delivers an interactive, web-based HR Management Dashboard built using the Dash Python framework. The dashboard presents key visualizations necessary for managerial decision-making. It highlights high-level trends and provides summarized insights. Designed for optimal perception and short-term memory, the dashboard aggregates and organizes information concisely, ensuring managers can quickly interpret patterns, anomalies, and key performance indicators to drive informed, strategic decisions effectively.\n",
    "\n",
    "**Code Implementation**"
   ]
  },
  {
   "cell_type": "code",
   "execution_count": 305,
   "metadata": {},
   "outputs": [],
   "source": [
    "from dash import Dash, dcc, html\n",
    "from dash.dependencies import Input, Output\n",
    "import pandas as pd\n",
    "import plotly.express as px\n",
    "\n",
    "# Load dataset\n",
    "url = 'https://raw.githubusercontent.com/Chayutpong-p/HR_Attrition_Management_Dashboard/main/cleaned_hr_data.csv'\n",
    "df = pd.read_csv(url)\n"
   ]
  },
  {
   "cell_type": "code",
   "execution_count": 306,
   "metadata": {},
   "outputs": [],
   "source": [
    "import pandas as pd\n",
    "\n",
    "# Decoding mappings\n",
    "business_travel_mapping = {0: \"Non-Travel\", 1: \"Travel_Rarely\", 2: \"Travel_Frequently\"}\n",
    "department_mapping = {0: \"Sales\", 1: \"Research & Development\", 2: \"Human Resources\"}\n",
    "gender_mapping = {0: \"Female\", 1: \"Male\"}\n",
    "\n",
    "# Apply Mappings to Dataset\n",
    "df[\"BusinessTravel\"] = df[\"BusinessTravel\"].map(business_travel_mapping)\n",
    "df[\"Department\"] = df[\"Department\"].map(department_mapping)\n",
    "df[\"Gender\"] = df[\"Gender\"].map(gender_mapping)"
   ]
  },
  {
   "cell_type": "code",
   "execution_count": 307,
   "metadata": {},
   "outputs": [
    {
     "name": "stderr",
     "output_type": "stream",
     "text": [
      "C:\\Users\\User\\AppData\\Local\\Temp\\ipykernel_43524\\2508590157.py:20: FutureWarning:\n",
      "\n",
      "The default of observed=False is deprecated and will be changed to True in a future version of pandas. Pass observed=False to retain current behavior or observed=True to adopt the future default and silence this warning.\n",
      "\n",
      "C:\\Users\\User\\AppData\\Local\\Temp\\ipykernel_43524\\2508590157.py:20: FutureWarning:\n",
      "\n",
      "The default of observed=False is deprecated and will be changed to True in a future version of pandas. Pass observed=False to retain current behavior or observed=True to adopt the future default and silence this warning.\n",
      "\n",
      "C:\\Users\\User\\AppData\\Local\\Temp\\ipykernel_43524\\2508590157.py:26: FutureWarning:\n",
      "\n",
      "The default of observed=False is deprecated and will be changed to True in a future version of pandas. Pass observed=False to retain current behavior or observed=True to adopt the future default and silence this warning.\n",
      "\n",
      "C:\\Users\\User\\AppData\\Local\\Temp\\ipykernel_43524\\2508590157.py:26: FutureWarning:\n",
      "\n",
      "The default of observed=False is deprecated and will be changed to True in a future version of pandas. Pass observed=False to retain current behavior or observed=True to adopt the future default and silence this warning.\n",
      "\n"
     ]
    }
   ],
   "source": [
    "# Total Employees, Attrition Numbers, and Attrition Rate\n",
    "total_employees = df.shape[0]\n",
    "total_attrition = df[df[\"Attrition\"] == 1].shape[0]\n",
    "attrition_rate = (total_attrition / total_employees) * 100\n",
    "\n",
    "# Pie Chart Data (Stay vs Leave)\n",
    "attrition_pie = df[\"Attrition\"].value_counts(normalize=True) * 100\n",
    "\n",
    "# Gender Attrition Rate\n",
    "gender_attrition = df[df[\"Attrition\"] == 1].groupby(\"Gender\").size() / df.groupby(\"Gender\").size() * 100\n",
    "\n",
    "# Department and Job Role Attrition\n",
    "department_attrition = df.groupby(\"Department\")[\"Attrition\"].mean() * 100\n",
    "job_role_attrition = df[df[\"Attrition\"] == 1].groupby([\"Department\", \"JobRole\"]).size() / df.groupby([\"Department\", \"JobRole\"]).size() * 100\n",
    "\n",
    "# Age Group Attrition\n",
    "age_bins = [18, 25, 35, 45, 60]\n",
    "age_labels = [\"18-25\", \"26-35\", \"36-45\", \"46-60\"]\n",
    "df[\"AgeGroup\"] = pd.cut(df[\"Age\"], bins=age_bins, labels=age_labels, right=False)\n",
    "age_group_attrition = df[df[\"Attrition\"] == 1].groupby(\"AgeGroup\").size() / df.groupby(\"AgeGroup\").size() * 100\n",
    "\n",
    "# Years Since Last Promotion Attrition\n",
    "promotion_bins = [0, 2, 4, 6, 8, df[\"YearsSinceLastPromotion\"].max() + 1]\n",
    "promotion_labels = [\"0-2\", \"2-4\", \"4-6\", \"6-8\", \"8+\"]\n",
    "df[\"PromotionGroup\"] = pd.cut(df[\"YearsSinceLastPromotion\"], bins=promotion_bins, labels=promotion_labels, right=False)\n",
    "promotion_attrition = df[df[\"Attrition\"] == 1].groupby(\"PromotionGroup\").size() / df.groupby(\"PromotionGroup\").size() * 100\n",
    "\n",
    "# Stock Level Attrition\n",
    "stock_level_attrition = df[df[\"Attrition\"] == 1].groupby(\"StockOptionLevel\").size() / df.groupby(\"StockOptionLevel\").size() * 100\n",
    "\n",
    "# Business Travel Attrition\n",
    "business_travel_attrition = df[df[\"Attrition\"] == 1].groupby(\"BusinessTravel\").size() / df.groupby(\"BusinessTravel\").size() * 100\n",
    "\n",
    "# Monthly Income Distribution by Attrition\n",
    "monthly_income_distribution = df.groupby(\"Attrition\")[\"MonthlyIncome\"].describe()\n",
    "monthly_income_stats = {\n",
    "    \"Attrition 0\": monthly_income_distribution.loc[0],\n",
    "    \"Attrition 1\": monthly_income_distribution.loc[1]\n",
    "}\n",
    "\n",
    "# Job Satisfaction Distribution by Attrition\n",
    "job_satisfaction_distribution = df.groupby(\"Attrition\")[\"JobSatisfaction\"].describe()\n",
    "job_satisfaction_stats = {\n",
    "    \"Attrition 0\": job_satisfaction_distribution.loc[0],\n",
    "    \"Attrition 1\": job_satisfaction_distribution.loc[1]\n",
    "}"
   ]
  },
  {
   "cell_type": "code",
   "execution_count": 308,
   "metadata": {},
   "outputs": [],
   "source": [
    "\n",
    "# 1. Pie Chart: Stay vs Leave\n",
    "fig_pie = px.pie(\n",
    "    names=[\"Employee Stay\", \"Employee Leave\"],\n",
    "    values=attrition_pie.values,\n",
    "    color=[\"Employee Stay\", \"Employee Leave\"],\n",
    "    color_discrete_map={\"Employee Stay\": \"#3288bd\", \"Employee Leave\": \"#d53e4f\"},\n",
    "    title=\"Employee Stay vs Leave\"\n",
    ")\n",
    "fig_pie.update_layout(plot_bgcolor=\"#E9D8D6\", paper_bgcolor=\"#E9D8D6\")\n",
    "\n",
    "# 2. Bar Chart: Gender Attrition\n",
    "fig_gender_attrition = px.bar(\n",
    "    x=gender_attrition.index,\n",
    "    y=gender_attrition.values,\n",
    "    labels={\"x\": \"Gender\", \"y\": \"Attrition Rate (%)\"},\n",
    "    title=\"Attrition by Gender\",\n",
    "    text=gender_attrition.values,\n",
    "    color_discrete_sequence=[\"#EE9B00\"]\n",
    ")\n",
    "fig_gender_attrition.update_traces(texttemplate='%{text:.2f}%', textposition='outside')\n",
    "fig_gender_attrition.update_layout(plot_bgcolor=\"#E9D8D6\", paper_bgcolor=\"#E9D8D6\")\n",
    "\n",
    "# 3. Bar Chart: Attrition by Department\n",
    "fig_department_bar = px.bar(\n",
    "    x=department_attrition.index,\n",
    "    y=department_attrition.values,\n",
    "    labels={\"x\": \"Department\", \"y\": \"Attrition Rate (%)\"},\n",
    "    title=\"Attrition by Department\",\n",
    "    text=department_attrition.values,\n",
    "    color_discrete_sequence=[\"#EE9B00\"]\n",
    ")\n",
    "fig_department_bar.update_traces(texttemplate='%{text:.2f}%', textposition='outside')\n",
    "fig_department_bar.update_layout(plot_bgcolor=\"#E9D8D6\", paper_bgcolor=\"#E9D8D6\")\n",
    "\n",
    "# 4. Bar Chart: Job Role Attrition\n",
    "fig_job_role_attrition = px.bar(\n",
    "    job_role_attrition.reset_index(),\n",
    "    x=\"JobRole\",\n",
    "    y=0,\n",
    "    color_discrete_sequence=[\"#EE9B00\"],\n",
    "    labels={\"JobRole\": \"Job Role\", 0: \"Attrition Rate (%)\", \"Department\": \"Department\"},\n",
    "    title=\"Attrition by Job Role\",\n",
    "    text=0,\n",
    "    barmode=\"group\"\n",
    ")\n",
    "fig_job_role_attrition.update_traces(texttemplate='%{text:.2f}%', textposition='outside')\n",
    "fig_job_role_attrition.update_layout(plot_bgcolor=\"#E9D8D6\", paper_bgcolor=\"#E9D8D6\")\n",
    "\n",
    "# 5. Horizontal Bar Chart: Attrition by Age Group\n",
    "fig_age_group_bar = px.bar(\n",
    "    y=age_group_attrition.index,\n",
    "    x=age_group_attrition.values,\n",
    "    orientation=\"h\",\n",
    "    labels={\"x\": \"Attrition Rate (%)\", \"y\": \"Age Group\"},\n",
    "    title=\"Attrition by Age Group\",\n",
    "    color_discrete_sequence=[\"#EE9B00\"]\n",
    ")\n",
    "fig_age_group_bar.update_layout(plot_bgcolor=\"#E9D8D6\", paper_bgcolor=\"#E9D8D6\")\n",
    "\n",
    "# 6. Horizontal Bar Chart: Attrition by Years Since Last Promotion\n",
    "fig_promotion_bar = px.bar(\n",
    "    y=promotion_attrition.index,\n",
    "    x=promotion_attrition.values,\n",
    "    orientation=\"h\",\n",
    "    labels={\"x\": \"Attrition Rate (%)\", \"y\": \"Years Since Last Promotion\"},\n",
    "    title=\"Attrition by Years Since Last Promotion\",\n",
    "    color_discrete_sequence=[\"#EE9B00\"]\n",
    ")\n",
    "fig_promotion_bar.update_layout(plot_bgcolor=\"#E9D8D6\", paper_bgcolor=\"#E9D8D6\")\n",
    "\n",
    "# 7. Horizontal Bar Chart: Attrition by Stock Level\n",
    "fig_stock_level_bar = px.bar(\n",
    "    y=stock_level_attrition.index,\n",
    "    x=stock_level_attrition.values,\n",
    "    orientation=\"h\",\n",
    "    labels={\"x\": \"Attrition Rate (%)\", \"y\": \"Stock Option Level\"},\n",
    "    title=\"Attrition by Stock Option Level\",\n",
    "    color_discrete_sequence=[\"#EE9B00\"]\n",
    ")\n",
    "fig_stock_level_bar.update_layout(plot_bgcolor=\"#E9D8D6\", paper_bgcolor=\"#E9D8D6\")\n",
    "\n",
    "# 8. Horizontal Bar Chart: Attrition by Business Travel\n",
    "fig_business_travel_bar = px.bar(\n",
    "    y=business_travel_attrition.index,\n",
    "    x=business_travel_attrition.values,\n",
    "    orientation=\"h\",\n",
    "    labels={\"x\": \"Attrition Rate (%)\", \"y\": \"Business Travel\"},\n",
    "    title=\"Attrition by Business Travel\",\n",
    "    color_discrete_sequence=[\"#EE9B00\"]\n",
    ")\n",
    "fig_business_travel_bar.update_layout(plot_bgcolor=\"#E9D8D6\", paper_bgcolor=\"#E9D8D6\")\n",
    "\n",
    "# 9. Box Plot: Monthly Income Distribution by Attrition\n",
    "fig_box_income = px.box(\n",
    "    df,\n",
    "    x=\"Attrition\",\n",
    "    y=\"MonthlyIncome\",\n",
    "    color=\"Attrition\",\n",
    "    labels={\"Attrition\": \"Attrition (Yes=1/No=0)\", \"MonthlyIncome\": \"Monthly Income\"},\n",
    "    title=\"Monthly Income Distribution by Attrition\",\n",
    "    color_discrete_map={\"1\": \"#d53e4f\", \"0\": \"#3288bd\"}  # Yes: Orange-Red, No: Teal\n",
    ")\n",
    "fig_box_income.update_layout(plot_bgcolor=\"#E9D8D6\", paper_bgcolor=\"#E9D8D6\",showlegend=False)\n",
    "\n",
    "# 10. Violin Plot: Job Satisfaction Distribution by Attrition\n",
    "fig_violin_satisfaction = px.violin(\n",
    "    df,\n",
    "    x=\"Attrition\",\n",
    "    y=\"JobSatisfaction\",\n",
    "    color=\"Attrition\",\n",
    "    box=True,\n",
    "    points=\"all\",\n",
    "    labels={\"Attrition\": \"Attrition (Yes=1/No=0)\", \"JobSatisfaction\": \"Job Satisfaction\"},\n",
    "    title=\"Job Satisfaction Distribution by Attrition\",\n",
    "    color_discrete_map={\"1\": \"#d53e4f\", \"0\": \"#3288bd\"}  # Yes: Orange-Red, No: Teal\n",
    ")\n",
    "fig_violin_satisfaction.update_layout(plot_bgcolor=\"#E9D8D6\", paper_bgcolor=\"#E9D8D6\",showlegend=False)\n",
    "_ = fig_violin_satisfaction"
   ]
  },
  {
   "cell_type": "code",
   "execution_count": 309,
   "metadata": {},
   "outputs": [],
   "source": [
    "# Initialize Dash app\n",
    "app = Dash(__name__)"
   ]
  },
  {
   "cell_type": "code",
   "execution_count": 310,
   "metadata": {},
   "outputs": [],
   "source": [
    "app.layout = html.Div(\n",
    "    style={\"fontFamily\": \"Arial, sans-serif\", \"backgroundColor\": \"#FAFAFA\", \"padding\": \"20px\"},\n",
    "    children=[\n",
    "        # Dashboard Title\n",
    "        html.Div(\n",
    "            style={\n",
    "                \"backgroundColor\": \"#2C3E50\",\n",
    "                \"padding\": \"15px\",\n",
    "                \"borderRadius\": \"10px\",\n",
    "                \"color\": \"#FFF\",\n",
    "                \"textAlign\": \"center\",\n",
    "                \"gridColumn\": \"1 / 7\",\n",
    "                \"marginBottom\": \"20px\"\n",
    "            },\n",
    "            children=html.H1(\n",
    "                \"Human Resource Attrition Analytics Dashboard\",\n",
    "                style={\"margin\": \"0\", \"fontSize\": \"2rem\", \"fontWeight\": \"bold\"}\n",
    "            )\n",
    "        ),\n",
    "\n",
    "        # GRID CONTAINER\n",
    "        html.Div(\n",
    "            style={\n",
    "                \"display\": \"grid\",\n",
    "                \"gridTemplateColumns\": \"repeat(6, 1fr)\",\n",
    "                \"gridTemplateRows\": \"auto 150px 300px 300px 300px\",  \n",
    "                \"gap\": \"20px\"\n",
    "            },\n",
    "            children=[\n",
    "                # KPI Cards\n",
    "                html.Div(\n",
    "                    style={\"gridColumn\": \"1 / 4\", \"gridRow\": \"2\", \"display\": \"flex\", \"gap\": \"20px\"},\n",
    "                    children=[\n",
    "                        # Total Employees Card\n",
    "                        html.Div(\n",
    "                            style={\n",
    "                                \"backgroundColor\": \"#27AE60\",\n",
    "                                \"padding\": \"15px\",\n",
    "                                \"borderRadius\": \"10px\",\n",
    "                                \"color\": \"#FFF\",\n",
    "                                \"textAlign\": \"center\",\n",
    "                                \"alignItems\": \"center\",\n",
    "                                \"flex\": \"1\"\n",
    "                            },\n",
    "                            children=[\n",
    "                                html.H4(\"Total Employees\", style={\"margin\": \"0\", \"fontWeight\": \"bold\"}),\n",
    "                                html.H2(f\"{total_employees}\", style={\"margin\": \"0\", \"fontSize\": \"1.5rem\"})\n",
    "                            ]\n",
    "                        ),\n",
    "                        # Total Employees Left Card\n",
    "                        html.Div(\n",
    "                            style={\n",
    "                                \"backgroundColor\": \"#2E86C1\",\n",
    "                                \"padding\": \"15px\",\n",
    "                                \"borderRadius\": \"10px\",\n",
    "                                \"color\": \"#FFF\",\n",
    "                                \"textAlign\": \"center\",\n",
    "                                \"alignItems\": \"center\",\n",
    "                                \"flex\": \"1\"\n",
    "                            },\n",
    "                            children=[\n",
    "                                html.H4(\"Total Employees Left\", style={\"margin\": \"0\", \"fontWeight\": \"bold\"}),\n",
    "                                html.H2(f\"{total_attrition}\", style={\"margin\": \"0\", \"fontSize\": \"1.5rem\"})\n",
    "                            ]\n",
    "                        ),\n",
    "                        # Attrition Rate Card\n",
    "                        html.Div(\n",
    "                            style={\n",
    "                                \"backgroundColor\": \"#E67E22\",\n",
    "                                \"padding\": \"15px\",\n",
    "                                \"borderRadius\": \"10px\",\n",
    "                                \"color\": \"#FFF\",\n",
    "                                \"textAlign\": \"center\",\n",
    "                                \"alignItems\": \"center\",\n",
    "                                \"flex\": \"1\"\n",
    "                            },\n",
    "                            children=[\n",
    "                                html.H4(\"Overall Attrition Rate\", style={\"margin\": \"0\", \"fontWeight\": \"bold\"}),\n",
    "                                html.H2(f\"{attrition_rate:.2f}%\", style={\"margin\": \"0\", \"fontSize\": \"1.5rem\"})\n",
    "                            ]\n",
    "                        )\n",
    "                    ]\n",
    "                ),\n",
    "\n",
    "                # Text Component\n",
    "                html.Div(\n",
    "                    style={\n",
    "                        \"gridColumn\": \"4 / 7\",         \n",
    "                        \"gridRow\": \"2\",\n",
    "                        \"backgroundColor\": \"#fee08b\",\n",
    "                        \"padding\": \"20px\",\n",
    "                        \"borderRadius\": \"10px\",\n",
    "                        \"color\": \"#2C3E50\",\n",
    "                        \"boxShadow\": \"0px 2px 5px rgba(0, 0, 0, 0.1)\",\n",
    "                        \"lineHeight\": \"1.5\",\n",
    "                        \"display\": \"flex\",\n",
    "                        \"justifyContent\": \"center\",\n",
    "                        \"alignItems\": \"center\",\n",
    "                        \"margin\": \"0 auto\",\n",
    "                        \"width\": \"90%\",\n",
    "                        \"height\": \"70%\",\n",
    "                        \"textAlign\": \"center\"\n",
    "                    },\n",
    "                    children=[\n",
    "                        html.Div([\n",
    "                            html.H4(\"What is Attrition?\", style={\"marginTop\": \"-20px\", \"marginBottom\": \"10px\", \"fontWeight\": \"bold\", \"fontSize\": \"1.2rem\"}),\n",
    "                            html.P(\n",
    "                                \"Attrition means employees leaving. Key factors include job satisfaction and income. Managing attrition improves retention, productivity, and morale.\",\n",
    "                                style={\"margin\": \"0\", \"fontSize\": \"1rem\"}\n",
    "                            )\n",
    "                        ])\n",
    "                    ]\n",
    "                ),\n",
    "\n",
    "                # Pie Chart \n",
    "                dcc.Graph(figure=fig_pie, style={\"gridColumn\": \"1 / 3\", \"gridRow\": \"3\", \"height\" : \"100%\", \"width\" : \"100%\"}),\n",
    "\n",
    "                # Gender Attrition \n",
    "                html.Div(\n",
    "                    style={\"gridColumn\": \"1 / 3\", \"gridRow\": \"4\", \"backgroundColor\": \"#E9D8D6\", \"padding\": \"20px\", \"borderRadius\": \"10px\", \"color\": \"#000000\"},\n",
    "                    children=[\n",
    "                        html.H3(\"Gender Attrition\", style={\"textAlign\": \"center\"}),\n",
    "                        html.Div(\n",
    "                            style={\"display\": \"flex\", \"justifyContent\": \"space-around\"},\n",
    "                            children=[\n",
    "                                html.Div(\n",
    "                                    style={\"textAlign\": \"center\"},\n",
    "                                    children=[\n",
    "                                        html.Img(src=\"/assets/male_icon.png\", style={\"width\": \"55px\", \"height\": \"55px\", \"marginBottom\": \"5px\"}),\n",
    "                                        html.H4(\"Male\"),\n",
    "                                        html.H3(f\"{gender_attrition['Male']:.2f}%\")\n",
    "                                    ]\n",
    "                                ),\n",
    "                                html.Div(\n",
    "                                    style={\"textAlign\": \"center\"},\n",
    "                                    children=[\n",
    "                                        html.Img(src=\"/assets/female_icon.png\", style={\"width\": \"55px\", \"height\": \"55px\", \"marginBottom\": \"5px\"}),\n",
    "                                        html.H4(\"Female\"),\n",
    "                                        html.H3(f\"{gender_attrition['Female']:.2f}%\")\n",
    "                                    ]\n",
    "                                )\n",
    "                            ]\n",
    "                        )\n",
    "                    ]\n",
    "                ),\n",
    "\n",
    "                # Department Chart \n",
    "                dcc.Graph(figure=fig_department_bar, style={\"gridColumn\": \"1 / 3\", \"gridRow\": \"5\"}),\n",
    "\n",
    "                # Age Group Chart \n",
    "                dcc.Graph(figure=fig_age_group_bar, style={\"gridColumn\": \"3 / 5\", \"gridRow\": \"3\"}),\n",
    "\n",
    "                # Promotion Year Chart\n",
    "                dcc.Graph(figure=fig_promotion_bar, style={\"gridColumn\": \"5 / 7\", \"gridRow\": \"3\"}),\n",
    "\n",
    "                # Income Chart \n",
    "                dcc.Graph(figure=fig_box_income, style={\"gridColumn\": \"3 / 5\", \"gridRow\": \"4\"}),\n",
    "\n",
    "                # Job Satisfaction Chart \n",
    "                dcc.Graph(figure=fig_violin_satisfaction, style={\"gridColumn\": \"5 / 7\", \"gridRow\": \"4\"}),\n",
    "\n",
    "                # Stock Level Chart\n",
    "                dcc.Graph(figure=fig_stock_level_bar, style={\"gridColumn\": \"3 / 5\", \"gridRow\": \"5\"}),\n",
    "\n",
    "                # Business Travel Chart \n",
    "                dcc.Graph(figure=fig_business_travel_bar, style={\"gridColumn\": \"5 / 7\", \"gridRow\": \"5\"})\n",
    "            ]\n",
    "        )\n",
    "    ]\n",
    ")"
   ]
  },
  {
   "cell_type": "code",
   "execution_count": 311,
   "metadata": {},
   "outputs": [
    {
     "data": {
      "text/html": [
       "\n",
       "        <iframe\n",
       "            width=\"100%\"\n",
       "            height=\"650\"\n",
       "            src=\"http://127.0.0.1:8090/\"\n",
       "            frameborder=\"0\"\n",
       "            allowfullscreen\n",
       "            \n",
       "        ></iframe>\n",
       "        "
      ],
      "text/plain": [
       "<IPython.lib.display.IFrame at 0x1cd71f05400>"
      ]
     },
     "metadata": {},
     "output_type": "display_data"
    }
   ],
   "source": [
    "# Run the Dash app\n",
    "if __name__ == \"__main__\":\n",
    "    app.run_server(debug=True, port=8090)"
   ]
  },
  {
   "cell_type": "markdown",
   "metadata": {},
   "source": [
    "## 5. Articulation of Decision-Making Process\n",
    "The development of this dashboard was guided by structured decision-making steps:\n",
    "\n",
    "1. **Data Exploration and Cleaning**: Raw data was analyzed for key trends in employee attrition, performance, and demographics, identifying correlations, and patterns across factors like age, department, and years after promotion, providing insights for further analysis.\n",
    "\n",
    "2. **Framework Selection**: Python's Dash was chosen over tools like Tableau for its flexibility in creating interactive, customizable dashboards.\n",
    "\n",
    "3. **Visualization Principles**: Principles such as clarity, simplicity, and accessibility from Edward Tufte and Alberto Cairo were applied to ensure the dashboard was user-friendly and insightful.\n",
    "\n",
    "4. **Iterative Development**: Visualizations were refined through multiple iterations, balancing aesthetic appeal and functional insights like hoving over for accurate detail."
   ]
  },
  {
   "cell_type": "markdown",
   "metadata": {},
   "source": [
    "## 6. Review of Analytics Methods Chosen\n",
    "The following methods were employed:\n",
    "\n",
    "1. **Descriptive Statistics**: Summarized key metrics like attrition rates, income distributions and many more.\n",
    "\n",
    "2. **Exploratory Data Analysis (EDA)**: Used correlation heatmaps and visual distributions to uncover relationships between variables.\n",
    "\n",
    "3. **Categorical Analysis**: Bar charts and pie charts illustrated attrition trends across departments, genders, satisfaction scores and another interesting factors."
   ]
  },
  {
   "cell_type": "markdown",
   "metadata": {},
   "source": [
    "## 7. Review of Available Tools\n",
    "1. **Dash**: Chosen for its interactivity and customization.\n",
    "\n",
    "2. **Tableau**: Considered for its simplicity but not used due to limited coding benefits.\n",
    "\n",
    "3. **Streamlit**: Explored as an alternative but lacked advanced layout control."
   ]
  },
  {
   "cell_type": "markdown",
   "metadata": {},
   "source": [
    "## 8. Review of Chosen Datasets\n",
    "The IBM HR Analytics Employee Attrition and Performance Dataset is widely recognized in the field of People Analytics for its comprehensive and structured information. It contains 1,470 rows and 35 columns and provides a holistic overview of employee demographics, job satisfaction, compensation, and performance metrics. The dataset includes variables such as:\n",
    "\n",
    "- **Demographic Data**: Age, Gender, Marital Status, Education Field.\n",
    "\n",
    "- **Job-Related Metrics**: Job Role, Department, Monthly Income, Overtime, and Job Level.\n",
    "\n",
    "- **Satisfaction Scores**: Job Satisfaction and Environment Satisfaction.\n",
    "\n",
    "- **Performance and Tenure**: Years in Current Role, Years at Company, Training Time, and Percent Salary Hike.\n",
    "\n",
    "This dataset is highly suitable for attrition analysis as it combines HRIS data with engagement survey results, enabling both descriptive and predictive analysis. For example, it allows the identification of differences between employees who stayed and those who left based on factors like job satisfaction, income, and overtime."
   ]
  },
  {
   "cell_type": "markdown",
   "metadata": {},
   "source": [
    "## 9. Visualisation of Data with Accompanying Code\n",
    "The following analysis highlights key components extracted from the HR Management Dashboard, showcasing the most valuable insights for the report. These visualizations provide an in-depth understanding of employee attrition, focusing on overall retention rates, department-wise trends, years after promotion, and job satisfaction."
   ]
  },
  {
   "cell_type": "code",
   "execution_count": 312,
   "metadata": {},
   "outputs": [
    {
     "name": "stderr",
     "output_type": "stream",
     "text": [
      "C:\\Users\\User\\AppData\\Local\\Temp\\ipykernel_43524\\2335320730.py:27: FutureWarning:\n",
      "\n",
      "The default of observed=False is deprecated and will be changed to True in a future version of pandas. Pass observed=False to retain current behavior or observed=True to adopt the future default and silence this warning.\n",
      "\n",
      "C:\\Users\\User\\AppData\\Local\\Temp\\ipykernel_43524\\2335320730.py:27: FutureWarning:\n",
      "\n",
      "The default of observed=False is deprecated and will be changed to True in a future version of pandas. Pass observed=False to retain current behavior or observed=True to adopt the future default and silence this warning.\n",
      "\n",
      "C:\\Users\\User\\AppData\\Local\\Temp\\ipykernel_43524\\2335320730.py:33: FutureWarning:\n",
      "\n",
      "The default of observed=False is deprecated and will be changed to True in a future version of pandas. Pass observed=False to retain current behavior or observed=True to adopt the future default and silence this warning.\n",
      "\n",
      "C:\\Users\\User\\AppData\\Local\\Temp\\ipykernel_43524\\2335320730.py:33: FutureWarning:\n",
      "\n",
      "The default of observed=False is deprecated and will be changed to True in a future version of pandas. Pass observed=False to retain current behavior or observed=True to adopt the future default and silence this warning.\n",
      "\n"
     ]
    }
   ],
   "source": [
    "from dash import Dash, dcc, html\n",
    "from dash.dependencies import Input, Output\n",
    "import pandas as pd\n",
    "import plotly.express as px\n",
    "\n",
    "# Load dataset \n",
    "url = 'https://raw.githubusercontent.com/Chayutpong-p/HR_Attrition_Management_Dashboard/main/cleaned_hr_data.csv'\n",
    "df = pd.read_csv(url)\n",
    "\n",
    "# Decoding mappings\n",
    "department_mapping = {0: \"Sales\", 1: \"Research & Development\", 2: \"Human Resources\"}\n",
    "\n",
    "# Apply Mappings to Dataset\n",
    "df[\"Department\"] = df[\"Department\"].map(department_mapping)\n",
    "\n",
    "# Pie Chart Data (Stay vs Leave)\n",
    "attrition_pie = df[\"Attrition\"].value_counts(normalize=True) * 100\n",
    "\n",
    "# Department and Job Role Attrition\n",
    "department_attrition = df.groupby(\"Department\")[\"Attrition\"].mean() * 100\n",
    "job_role_attrition = df[df[\"Attrition\"] == 1].groupby([\"Department\", \"JobRole\"]).size() / df.groupby([\"Department\", \"JobRole\"]).size() * 100\n",
    "\n",
    "# Age Group Attrition\n",
    "age_bins = [18, 25, 35, 45, 60]\n",
    "age_labels = [\"18-25\", \"26-35\", \"36-45\", \"46-60\"]\n",
    "df[\"AgeGroup\"] = pd.cut(df[\"Age\"], bins=age_bins, labels=age_labels, right=False)\n",
    "age_group_attrition = df[df[\"Attrition\"] == 1].groupby(\"AgeGroup\").size() / df.groupby(\"AgeGroup\").size() * 100\n",
    "\n",
    "# Years Since Last Promotion Attrition\n",
    "promotion_bins = [0, 2, 4, 6, 8, df[\"YearsSinceLastPromotion\"].max() + 1]\n",
    "promotion_labels = [\"0-2\", \"2-4\", \"4-6\", \"6-8\", \"8+\"]\n",
    "df[\"PromotionGroup\"] = pd.cut(df[\"YearsSinceLastPromotion\"], bins=promotion_bins, labels=promotion_labels, right=False)\n",
    "promotion_attrition = df[df[\"Attrition\"] == 1].groupby(\"PromotionGroup\").size() / df.groupby(\"PromotionGroup\").size() * 100\n",
    "\n",
    "# Job Satisfaction Distribution by Attrition\n",
    "job_satisfaction_distribution = df.groupby(\"Attrition\")[\"JobSatisfaction\"].describe()\n",
    "job_satisfaction_stats = {\n",
    "    \"Attrition 0\": job_satisfaction_distribution.loc[0],\n",
    "    \"Attrition 1\": job_satisfaction_distribution.loc[1]\n",
    "}"
   ]
  },
  {
   "cell_type": "code",
   "execution_count": 313,
   "metadata": {},
   "outputs": [
    {
     "data": {
      "application/vnd.plotly.v1+json": {
       "config": {
        "plotlyServerURL": "https://plot.ly"
       },
       "data": [
        {
         "customdata": [
          [
           "Employee Stay"
          ],
          [
           "Employee Leave"
          ]
         ],
         "domain": {
          "x": [
           0,
           1
          ],
          "y": [
           0,
           1
          ]
         },
         "hovertemplate": "label=%{label}<br>value=%{value}<br>color=%{customdata[0]}<extra></extra>",
         "labels": [
          "Employee Stay",
          "Employee Leave"
         ],
         "legendgroup": "",
         "marker": {
          "colors": [
           "#3288bd",
           "#d53e4f"
          ]
         },
         "name": "",
         "showlegend": true,
         "type": "pie",
         "values": [
          83.87755102040816,
          16.122448979591837
         ]
        }
       ],
       "layout": {
        "legend": {
         "tracegroupgap": 0
        },
        "paper_bgcolor": "#E9D8D6",
        "plot_bgcolor": "#E9D8D6",
        "template": {
         "data": {
          "bar": [
           {
            "error_x": {
             "color": "#2a3f5f"
            },
            "error_y": {
             "color": "#2a3f5f"
            },
            "marker": {
             "line": {
              "color": "#E5ECF6",
              "width": 0.5
             },
             "pattern": {
              "fillmode": "overlay",
              "size": 10,
              "solidity": 0.2
             }
            },
            "type": "bar"
           }
          ],
          "barpolar": [
           {
            "marker": {
             "line": {
              "color": "#E5ECF6",
              "width": 0.5
             },
             "pattern": {
              "fillmode": "overlay",
              "size": 10,
              "solidity": 0.2
             }
            },
            "type": "barpolar"
           }
          ],
          "carpet": [
           {
            "aaxis": {
             "endlinecolor": "#2a3f5f",
             "gridcolor": "white",
             "linecolor": "white",
             "minorgridcolor": "white",
             "startlinecolor": "#2a3f5f"
            },
            "baxis": {
             "endlinecolor": "#2a3f5f",
             "gridcolor": "white",
             "linecolor": "white",
             "minorgridcolor": "white",
             "startlinecolor": "#2a3f5f"
            },
            "type": "carpet"
           }
          ],
          "choropleth": [
           {
            "colorbar": {
             "outlinewidth": 0,
             "ticks": ""
            },
            "type": "choropleth"
           }
          ],
          "contour": [
           {
            "colorbar": {
             "outlinewidth": 0,
             "ticks": ""
            },
            "colorscale": [
             [
              0,
              "#0d0887"
             ],
             [
              0.1111111111111111,
              "#46039f"
             ],
             [
              0.2222222222222222,
              "#7201a8"
             ],
             [
              0.3333333333333333,
              "#9c179e"
             ],
             [
              0.4444444444444444,
              "#bd3786"
             ],
             [
              0.5555555555555556,
              "#d8576b"
             ],
             [
              0.6666666666666666,
              "#ed7953"
             ],
             [
              0.7777777777777778,
              "#fb9f3a"
             ],
             [
              0.8888888888888888,
              "#fdca26"
             ],
             [
              1,
              "#f0f921"
             ]
            ],
            "type": "contour"
           }
          ],
          "contourcarpet": [
           {
            "colorbar": {
             "outlinewidth": 0,
             "ticks": ""
            },
            "type": "contourcarpet"
           }
          ],
          "heatmap": [
           {
            "colorbar": {
             "outlinewidth": 0,
             "ticks": ""
            },
            "colorscale": [
             [
              0,
              "#0d0887"
             ],
             [
              0.1111111111111111,
              "#46039f"
             ],
             [
              0.2222222222222222,
              "#7201a8"
             ],
             [
              0.3333333333333333,
              "#9c179e"
             ],
             [
              0.4444444444444444,
              "#bd3786"
             ],
             [
              0.5555555555555556,
              "#d8576b"
             ],
             [
              0.6666666666666666,
              "#ed7953"
             ],
             [
              0.7777777777777778,
              "#fb9f3a"
             ],
             [
              0.8888888888888888,
              "#fdca26"
             ],
             [
              1,
              "#f0f921"
             ]
            ],
            "type": "heatmap"
           }
          ],
          "heatmapgl": [
           {
            "colorbar": {
             "outlinewidth": 0,
             "ticks": ""
            },
            "colorscale": [
             [
              0,
              "#0d0887"
             ],
             [
              0.1111111111111111,
              "#46039f"
             ],
             [
              0.2222222222222222,
              "#7201a8"
             ],
             [
              0.3333333333333333,
              "#9c179e"
             ],
             [
              0.4444444444444444,
              "#bd3786"
             ],
             [
              0.5555555555555556,
              "#d8576b"
             ],
             [
              0.6666666666666666,
              "#ed7953"
             ],
             [
              0.7777777777777778,
              "#fb9f3a"
             ],
             [
              0.8888888888888888,
              "#fdca26"
             ],
             [
              1,
              "#f0f921"
             ]
            ],
            "type": "heatmapgl"
           }
          ],
          "histogram": [
           {
            "marker": {
             "pattern": {
              "fillmode": "overlay",
              "size": 10,
              "solidity": 0.2
             }
            },
            "type": "histogram"
           }
          ],
          "histogram2d": [
           {
            "colorbar": {
             "outlinewidth": 0,
             "ticks": ""
            },
            "colorscale": [
             [
              0,
              "#0d0887"
             ],
             [
              0.1111111111111111,
              "#46039f"
             ],
             [
              0.2222222222222222,
              "#7201a8"
             ],
             [
              0.3333333333333333,
              "#9c179e"
             ],
             [
              0.4444444444444444,
              "#bd3786"
             ],
             [
              0.5555555555555556,
              "#d8576b"
             ],
             [
              0.6666666666666666,
              "#ed7953"
             ],
             [
              0.7777777777777778,
              "#fb9f3a"
             ],
             [
              0.8888888888888888,
              "#fdca26"
             ],
             [
              1,
              "#f0f921"
             ]
            ],
            "type": "histogram2d"
           }
          ],
          "histogram2dcontour": [
           {
            "colorbar": {
             "outlinewidth": 0,
             "ticks": ""
            },
            "colorscale": [
             [
              0,
              "#0d0887"
             ],
             [
              0.1111111111111111,
              "#46039f"
             ],
             [
              0.2222222222222222,
              "#7201a8"
             ],
             [
              0.3333333333333333,
              "#9c179e"
             ],
             [
              0.4444444444444444,
              "#bd3786"
             ],
             [
              0.5555555555555556,
              "#d8576b"
             ],
             [
              0.6666666666666666,
              "#ed7953"
             ],
             [
              0.7777777777777778,
              "#fb9f3a"
             ],
             [
              0.8888888888888888,
              "#fdca26"
             ],
             [
              1,
              "#f0f921"
             ]
            ],
            "type": "histogram2dcontour"
           }
          ],
          "mesh3d": [
           {
            "colorbar": {
             "outlinewidth": 0,
             "ticks": ""
            },
            "type": "mesh3d"
           }
          ],
          "parcoords": [
           {
            "line": {
             "colorbar": {
              "outlinewidth": 0,
              "ticks": ""
             }
            },
            "type": "parcoords"
           }
          ],
          "pie": [
           {
            "automargin": true,
            "type": "pie"
           }
          ],
          "scatter": [
           {
            "fillpattern": {
             "fillmode": "overlay",
             "size": 10,
             "solidity": 0.2
            },
            "type": "scatter"
           }
          ],
          "scatter3d": [
           {
            "line": {
             "colorbar": {
              "outlinewidth": 0,
              "ticks": ""
             }
            },
            "marker": {
             "colorbar": {
              "outlinewidth": 0,
              "ticks": ""
             }
            },
            "type": "scatter3d"
           }
          ],
          "scattercarpet": [
           {
            "marker": {
             "colorbar": {
              "outlinewidth": 0,
              "ticks": ""
             }
            },
            "type": "scattercarpet"
           }
          ],
          "scattergeo": [
           {
            "marker": {
             "colorbar": {
              "outlinewidth": 0,
              "ticks": ""
             }
            },
            "type": "scattergeo"
           }
          ],
          "scattergl": [
           {
            "marker": {
             "colorbar": {
              "outlinewidth": 0,
              "ticks": ""
             }
            },
            "type": "scattergl"
           }
          ],
          "scattermapbox": [
           {
            "marker": {
             "colorbar": {
              "outlinewidth": 0,
              "ticks": ""
             }
            },
            "type": "scattermapbox"
           }
          ],
          "scatterpolar": [
           {
            "marker": {
             "colorbar": {
              "outlinewidth": 0,
              "ticks": ""
             }
            },
            "type": "scatterpolar"
           }
          ],
          "scatterpolargl": [
           {
            "marker": {
             "colorbar": {
              "outlinewidth": 0,
              "ticks": ""
             }
            },
            "type": "scatterpolargl"
           }
          ],
          "scatterternary": [
           {
            "marker": {
             "colorbar": {
              "outlinewidth": 0,
              "ticks": ""
             }
            },
            "type": "scatterternary"
           }
          ],
          "surface": [
           {
            "colorbar": {
             "outlinewidth": 0,
             "ticks": ""
            },
            "colorscale": [
             [
              0,
              "#0d0887"
             ],
             [
              0.1111111111111111,
              "#46039f"
             ],
             [
              0.2222222222222222,
              "#7201a8"
             ],
             [
              0.3333333333333333,
              "#9c179e"
             ],
             [
              0.4444444444444444,
              "#bd3786"
             ],
             [
              0.5555555555555556,
              "#d8576b"
             ],
             [
              0.6666666666666666,
              "#ed7953"
             ],
             [
              0.7777777777777778,
              "#fb9f3a"
             ],
             [
              0.8888888888888888,
              "#fdca26"
             ],
             [
              1,
              "#f0f921"
             ]
            ],
            "type": "surface"
           }
          ],
          "table": [
           {
            "cells": {
             "fill": {
              "color": "#EBF0F8"
             },
             "line": {
              "color": "white"
             }
            },
            "header": {
             "fill": {
              "color": "#C8D4E3"
             },
             "line": {
              "color": "white"
             }
            },
            "type": "table"
           }
          ]
         },
         "layout": {
          "annotationdefaults": {
           "arrowcolor": "#2a3f5f",
           "arrowhead": 0,
           "arrowwidth": 1
          },
          "autotypenumbers": "strict",
          "coloraxis": {
           "colorbar": {
            "outlinewidth": 0,
            "ticks": ""
           }
          },
          "colorscale": {
           "diverging": [
            [
             0,
             "#8e0152"
            ],
            [
             0.1,
             "#c51b7d"
            ],
            [
             0.2,
             "#de77ae"
            ],
            [
             0.3,
             "#f1b6da"
            ],
            [
             0.4,
             "#fde0ef"
            ],
            [
             0.5,
             "#f7f7f7"
            ],
            [
             0.6,
             "#e6f5d0"
            ],
            [
             0.7,
             "#b8e186"
            ],
            [
             0.8,
             "#7fbc41"
            ],
            [
             0.9,
             "#4d9221"
            ],
            [
             1,
             "#276419"
            ]
           ],
           "sequential": [
            [
             0,
             "#0d0887"
            ],
            [
             0.1111111111111111,
             "#46039f"
            ],
            [
             0.2222222222222222,
             "#7201a8"
            ],
            [
             0.3333333333333333,
             "#9c179e"
            ],
            [
             0.4444444444444444,
             "#bd3786"
            ],
            [
             0.5555555555555556,
             "#d8576b"
            ],
            [
             0.6666666666666666,
             "#ed7953"
            ],
            [
             0.7777777777777778,
             "#fb9f3a"
            ],
            [
             0.8888888888888888,
             "#fdca26"
            ],
            [
             1,
             "#f0f921"
            ]
           ],
           "sequentialminus": [
            [
             0,
             "#0d0887"
            ],
            [
             0.1111111111111111,
             "#46039f"
            ],
            [
             0.2222222222222222,
             "#7201a8"
            ],
            [
             0.3333333333333333,
             "#9c179e"
            ],
            [
             0.4444444444444444,
             "#bd3786"
            ],
            [
             0.5555555555555556,
             "#d8576b"
            ],
            [
             0.6666666666666666,
             "#ed7953"
            ],
            [
             0.7777777777777778,
             "#fb9f3a"
            ],
            [
             0.8888888888888888,
             "#fdca26"
            ],
            [
             1,
             "#f0f921"
            ]
           ]
          },
          "colorway": [
           "#636efa",
           "#EF553B",
           "#00cc96",
           "#ab63fa",
           "#FFA15A",
           "#19d3f3",
           "#FF6692",
           "#B6E880",
           "#FF97FF",
           "#FECB52"
          ],
          "font": {
           "color": "#2a3f5f"
          },
          "geo": {
           "bgcolor": "white",
           "lakecolor": "white",
           "landcolor": "#E5ECF6",
           "showlakes": true,
           "showland": true,
           "subunitcolor": "white"
          },
          "hoverlabel": {
           "align": "left"
          },
          "hovermode": "closest",
          "mapbox": {
           "style": "light"
          },
          "paper_bgcolor": "white",
          "plot_bgcolor": "#E5ECF6",
          "polar": {
           "angularaxis": {
            "gridcolor": "white",
            "linecolor": "white",
            "ticks": ""
           },
           "bgcolor": "#E5ECF6",
           "radialaxis": {
            "gridcolor": "white",
            "linecolor": "white",
            "ticks": ""
           }
          },
          "scene": {
           "xaxis": {
            "backgroundcolor": "#E5ECF6",
            "gridcolor": "white",
            "gridwidth": 2,
            "linecolor": "white",
            "showbackground": true,
            "ticks": "",
            "zerolinecolor": "white"
           },
           "yaxis": {
            "backgroundcolor": "#E5ECF6",
            "gridcolor": "white",
            "gridwidth": 2,
            "linecolor": "white",
            "showbackground": true,
            "ticks": "",
            "zerolinecolor": "white"
           },
           "zaxis": {
            "backgroundcolor": "#E5ECF6",
            "gridcolor": "white",
            "gridwidth": 2,
            "linecolor": "white",
            "showbackground": true,
            "ticks": "",
            "zerolinecolor": "white"
           }
          },
          "shapedefaults": {
           "line": {
            "color": "#2a3f5f"
           }
          },
          "ternary": {
           "aaxis": {
            "gridcolor": "white",
            "linecolor": "white",
            "ticks": ""
           },
           "baxis": {
            "gridcolor": "white",
            "linecolor": "white",
            "ticks": ""
           },
           "bgcolor": "#E5ECF6",
           "caxis": {
            "gridcolor": "white",
            "linecolor": "white",
            "ticks": ""
           }
          },
          "title": {
           "x": 0.05
          },
          "xaxis": {
           "automargin": true,
           "gridcolor": "white",
           "linecolor": "white",
           "ticks": "",
           "title": {
            "standoff": 15
           },
           "zerolinecolor": "white",
           "zerolinewidth": 2
          },
          "yaxis": {
           "automargin": true,
           "gridcolor": "white",
           "linecolor": "white",
           "ticks": "",
           "title": {
            "standoff": 15
           },
           "zerolinecolor": "white",
           "zerolinewidth": 2
          }
         }
        },
        "title": {
         "text": "Employee Stay vs Leave"
        }
       }
      }
     },
     "metadata": {},
     "output_type": "display_data"
    }
   ],
   "source": [
    "# 1. Pie Chart: Stay vs Leave\n",
    "fig_pie = px.pie(\n",
    "    names=[\"Employee Stay\", \"Employee Leave\"],\n",
    "    values=attrition_pie.values,\n",
    "    color=[\"Employee Stay\", \"Employee Leave\"],\n",
    "    color_discrete_map={\"Employee Stay\": \"#3288bd\", \"Employee Leave\": \"#d53e4f\"},\n",
    "    title=\"Employee Stay vs Leave\"\n",
    ")\n",
    "fig_pie.update_layout(plot_bgcolor=\"#E9D8D6\", paper_bgcolor=\"#E9D8D6\")\n",
    "fig_pie.show()"
   ]
  },
  {
   "cell_type": "markdown",
   "metadata": {},
   "source": [
    "**Insight**: 83.9% of employees stay, while 16.1% leave. This indicates overall good retention but highlights a need to understand the drivers of attrition among the leaving employees."
   ]
  },
  {
   "cell_type": "code",
   "execution_count": 314,
   "metadata": {},
   "outputs": [
    {
     "data": {
      "application/vnd.plotly.v1+json": {
       "config": {
        "plotlyServerURL": "https://plot.ly"
       },
       "data": [
        {
         "alignmentgroup": "True",
         "hovertemplate": "Department=%{x}<br>Attrition Rate (%)=%{y}<br>text=%{text}<extra></extra>",
         "legendgroup": "",
         "marker": {
          "color": "#EE9B00",
          "pattern": {
           "shape": ""
          }
         },
         "name": "",
         "offsetgroup": "",
         "orientation": "v",
         "showlegend": false,
         "text": [
          19.047619047619047,
          13.839750260145681,
          20.62780269058296
         ],
         "textposition": "outside",
         "texttemplate": "%{text:.2f}%",
         "type": "bar",
         "x": [
          "Human Resources",
          "Research & Development",
          "Sales"
         ],
         "xaxis": "x",
         "y": [
          19.047619047619047,
          13.839750260145681,
          20.62780269058296
         ],
         "yaxis": "y"
        }
       ],
       "layout": {
        "barmode": "relative",
        "legend": {
         "tracegroupgap": 0
        },
        "paper_bgcolor": "#E9D8D6",
        "plot_bgcolor": "#E9D8D6",
        "template": {
         "data": {
          "bar": [
           {
            "error_x": {
             "color": "#2a3f5f"
            },
            "error_y": {
             "color": "#2a3f5f"
            },
            "marker": {
             "line": {
              "color": "#E5ECF6",
              "width": 0.5
             },
             "pattern": {
              "fillmode": "overlay",
              "size": 10,
              "solidity": 0.2
             }
            },
            "type": "bar"
           }
          ],
          "barpolar": [
           {
            "marker": {
             "line": {
              "color": "#E5ECF6",
              "width": 0.5
             },
             "pattern": {
              "fillmode": "overlay",
              "size": 10,
              "solidity": 0.2
             }
            },
            "type": "barpolar"
           }
          ],
          "carpet": [
           {
            "aaxis": {
             "endlinecolor": "#2a3f5f",
             "gridcolor": "white",
             "linecolor": "white",
             "minorgridcolor": "white",
             "startlinecolor": "#2a3f5f"
            },
            "baxis": {
             "endlinecolor": "#2a3f5f",
             "gridcolor": "white",
             "linecolor": "white",
             "minorgridcolor": "white",
             "startlinecolor": "#2a3f5f"
            },
            "type": "carpet"
           }
          ],
          "choropleth": [
           {
            "colorbar": {
             "outlinewidth": 0,
             "ticks": ""
            },
            "type": "choropleth"
           }
          ],
          "contour": [
           {
            "colorbar": {
             "outlinewidth": 0,
             "ticks": ""
            },
            "colorscale": [
             [
              0,
              "#0d0887"
             ],
             [
              0.1111111111111111,
              "#46039f"
             ],
             [
              0.2222222222222222,
              "#7201a8"
             ],
             [
              0.3333333333333333,
              "#9c179e"
             ],
             [
              0.4444444444444444,
              "#bd3786"
             ],
             [
              0.5555555555555556,
              "#d8576b"
             ],
             [
              0.6666666666666666,
              "#ed7953"
             ],
             [
              0.7777777777777778,
              "#fb9f3a"
             ],
             [
              0.8888888888888888,
              "#fdca26"
             ],
             [
              1,
              "#f0f921"
             ]
            ],
            "type": "contour"
           }
          ],
          "contourcarpet": [
           {
            "colorbar": {
             "outlinewidth": 0,
             "ticks": ""
            },
            "type": "contourcarpet"
           }
          ],
          "heatmap": [
           {
            "colorbar": {
             "outlinewidth": 0,
             "ticks": ""
            },
            "colorscale": [
             [
              0,
              "#0d0887"
             ],
             [
              0.1111111111111111,
              "#46039f"
             ],
             [
              0.2222222222222222,
              "#7201a8"
             ],
             [
              0.3333333333333333,
              "#9c179e"
             ],
             [
              0.4444444444444444,
              "#bd3786"
             ],
             [
              0.5555555555555556,
              "#d8576b"
             ],
             [
              0.6666666666666666,
              "#ed7953"
             ],
             [
              0.7777777777777778,
              "#fb9f3a"
             ],
             [
              0.8888888888888888,
              "#fdca26"
             ],
             [
              1,
              "#f0f921"
             ]
            ],
            "type": "heatmap"
           }
          ],
          "heatmapgl": [
           {
            "colorbar": {
             "outlinewidth": 0,
             "ticks": ""
            },
            "colorscale": [
             [
              0,
              "#0d0887"
             ],
             [
              0.1111111111111111,
              "#46039f"
             ],
             [
              0.2222222222222222,
              "#7201a8"
             ],
             [
              0.3333333333333333,
              "#9c179e"
             ],
             [
              0.4444444444444444,
              "#bd3786"
             ],
             [
              0.5555555555555556,
              "#d8576b"
             ],
             [
              0.6666666666666666,
              "#ed7953"
             ],
             [
              0.7777777777777778,
              "#fb9f3a"
             ],
             [
              0.8888888888888888,
              "#fdca26"
             ],
             [
              1,
              "#f0f921"
             ]
            ],
            "type": "heatmapgl"
           }
          ],
          "histogram": [
           {
            "marker": {
             "pattern": {
              "fillmode": "overlay",
              "size": 10,
              "solidity": 0.2
             }
            },
            "type": "histogram"
           }
          ],
          "histogram2d": [
           {
            "colorbar": {
             "outlinewidth": 0,
             "ticks": ""
            },
            "colorscale": [
             [
              0,
              "#0d0887"
             ],
             [
              0.1111111111111111,
              "#46039f"
             ],
             [
              0.2222222222222222,
              "#7201a8"
             ],
             [
              0.3333333333333333,
              "#9c179e"
             ],
             [
              0.4444444444444444,
              "#bd3786"
             ],
             [
              0.5555555555555556,
              "#d8576b"
             ],
             [
              0.6666666666666666,
              "#ed7953"
             ],
             [
              0.7777777777777778,
              "#fb9f3a"
             ],
             [
              0.8888888888888888,
              "#fdca26"
             ],
             [
              1,
              "#f0f921"
             ]
            ],
            "type": "histogram2d"
           }
          ],
          "histogram2dcontour": [
           {
            "colorbar": {
             "outlinewidth": 0,
             "ticks": ""
            },
            "colorscale": [
             [
              0,
              "#0d0887"
             ],
             [
              0.1111111111111111,
              "#46039f"
             ],
             [
              0.2222222222222222,
              "#7201a8"
             ],
             [
              0.3333333333333333,
              "#9c179e"
             ],
             [
              0.4444444444444444,
              "#bd3786"
             ],
             [
              0.5555555555555556,
              "#d8576b"
             ],
             [
              0.6666666666666666,
              "#ed7953"
             ],
             [
              0.7777777777777778,
              "#fb9f3a"
             ],
             [
              0.8888888888888888,
              "#fdca26"
             ],
             [
              1,
              "#f0f921"
             ]
            ],
            "type": "histogram2dcontour"
           }
          ],
          "mesh3d": [
           {
            "colorbar": {
             "outlinewidth": 0,
             "ticks": ""
            },
            "type": "mesh3d"
           }
          ],
          "parcoords": [
           {
            "line": {
             "colorbar": {
              "outlinewidth": 0,
              "ticks": ""
             }
            },
            "type": "parcoords"
           }
          ],
          "pie": [
           {
            "automargin": true,
            "type": "pie"
           }
          ],
          "scatter": [
           {
            "fillpattern": {
             "fillmode": "overlay",
             "size": 10,
             "solidity": 0.2
            },
            "type": "scatter"
           }
          ],
          "scatter3d": [
           {
            "line": {
             "colorbar": {
              "outlinewidth": 0,
              "ticks": ""
             }
            },
            "marker": {
             "colorbar": {
              "outlinewidth": 0,
              "ticks": ""
             }
            },
            "type": "scatter3d"
           }
          ],
          "scattercarpet": [
           {
            "marker": {
             "colorbar": {
              "outlinewidth": 0,
              "ticks": ""
             }
            },
            "type": "scattercarpet"
           }
          ],
          "scattergeo": [
           {
            "marker": {
             "colorbar": {
              "outlinewidth": 0,
              "ticks": ""
             }
            },
            "type": "scattergeo"
           }
          ],
          "scattergl": [
           {
            "marker": {
             "colorbar": {
              "outlinewidth": 0,
              "ticks": ""
             }
            },
            "type": "scattergl"
           }
          ],
          "scattermapbox": [
           {
            "marker": {
             "colorbar": {
              "outlinewidth": 0,
              "ticks": ""
             }
            },
            "type": "scattermapbox"
           }
          ],
          "scatterpolar": [
           {
            "marker": {
             "colorbar": {
              "outlinewidth": 0,
              "ticks": ""
             }
            },
            "type": "scatterpolar"
           }
          ],
          "scatterpolargl": [
           {
            "marker": {
             "colorbar": {
              "outlinewidth": 0,
              "ticks": ""
             }
            },
            "type": "scatterpolargl"
           }
          ],
          "scatterternary": [
           {
            "marker": {
             "colorbar": {
              "outlinewidth": 0,
              "ticks": ""
             }
            },
            "type": "scatterternary"
           }
          ],
          "surface": [
           {
            "colorbar": {
             "outlinewidth": 0,
             "ticks": ""
            },
            "colorscale": [
             [
              0,
              "#0d0887"
             ],
             [
              0.1111111111111111,
              "#46039f"
             ],
             [
              0.2222222222222222,
              "#7201a8"
             ],
             [
              0.3333333333333333,
              "#9c179e"
             ],
             [
              0.4444444444444444,
              "#bd3786"
             ],
             [
              0.5555555555555556,
              "#d8576b"
             ],
             [
              0.6666666666666666,
              "#ed7953"
             ],
             [
              0.7777777777777778,
              "#fb9f3a"
             ],
             [
              0.8888888888888888,
              "#fdca26"
             ],
             [
              1,
              "#f0f921"
             ]
            ],
            "type": "surface"
           }
          ],
          "table": [
           {
            "cells": {
             "fill": {
              "color": "#EBF0F8"
             },
             "line": {
              "color": "white"
             }
            },
            "header": {
             "fill": {
              "color": "#C8D4E3"
             },
             "line": {
              "color": "white"
             }
            },
            "type": "table"
           }
          ]
         },
         "layout": {
          "annotationdefaults": {
           "arrowcolor": "#2a3f5f",
           "arrowhead": 0,
           "arrowwidth": 1
          },
          "autotypenumbers": "strict",
          "coloraxis": {
           "colorbar": {
            "outlinewidth": 0,
            "ticks": ""
           }
          },
          "colorscale": {
           "diverging": [
            [
             0,
             "#8e0152"
            ],
            [
             0.1,
             "#c51b7d"
            ],
            [
             0.2,
             "#de77ae"
            ],
            [
             0.3,
             "#f1b6da"
            ],
            [
             0.4,
             "#fde0ef"
            ],
            [
             0.5,
             "#f7f7f7"
            ],
            [
             0.6,
             "#e6f5d0"
            ],
            [
             0.7,
             "#b8e186"
            ],
            [
             0.8,
             "#7fbc41"
            ],
            [
             0.9,
             "#4d9221"
            ],
            [
             1,
             "#276419"
            ]
           ],
           "sequential": [
            [
             0,
             "#0d0887"
            ],
            [
             0.1111111111111111,
             "#46039f"
            ],
            [
             0.2222222222222222,
             "#7201a8"
            ],
            [
             0.3333333333333333,
             "#9c179e"
            ],
            [
             0.4444444444444444,
             "#bd3786"
            ],
            [
             0.5555555555555556,
             "#d8576b"
            ],
            [
             0.6666666666666666,
             "#ed7953"
            ],
            [
             0.7777777777777778,
             "#fb9f3a"
            ],
            [
             0.8888888888888888,
             "#fdca26"
            ],
            [
             1,
             "#f0f921"
            ]
           ],
           "sequentialminus": [
            [
             0,
             "#0d0887"
            ],
            [
             0.1111111111111111,
             "#46039f"
            ],
            [
             0.2222222222222222,
             "#7201a8"
            ],
            [
             0.3333333333333333,
             "#9c179e"
            ],
            [
             0.4444444444444444,
             "#bd3786"
            ],
            [
             0.5555555555555556,
             "#d8576b"
            ],
            [
             0.6666666666666666,
             "#ed7953"
            ],
            [
             0.7777777777777778,
             "#fb9f3a"
            ],
            [
             0.8888888888888888,
             "#fdca26"
            ],
            [
             1,
             "#f0f921"
            ]
           ]
          },
          "colorway": [
           "#636efa",
           "#EF553B",
           "#00cc96",
           "#ab63fa",
           "#FFA15A",
           "#19d3f3",
           "#FF6692",
           "#B6E880",
           "#FF97FF",
           "#FECB52"
          ],
          "font": {
           "color": "#2a3f5f"
          },
          "geo": {
           "bgcolor": "white",
           "lakecolor": "white",
           "landcolor": "#E5ECF6",
           "showlakes": true,
           "showland": true,
           "subunitcolor": "white"
          },
          "hoverlabel": {
           "align": "left"
          },
          "hovermode": "closest",
          "mapbox": {
           "style": "light"
          },
          "paper_bgcolor": "white",
          "plot_bgcolor": "#E5ECF6",
          "polar": {
           "angularaxis": {
            "gridcolor": "white",
            "linecolor": "white",
            "ticks": ""
           },
           "bgcolor": "#E5ECF6",
           "radialaxis": {
            "gridcolor": "white",
            "linecolor": "white",
            "ticks": ""
           }
          },
          "scene": {
           "xaxis": {
            "backgroundcolor": "#E5ECF6",
            "gridcolor": "white",
            "gridwidth": 2,
            "linecolor": "white",
            "showbackground": true,
            "ticks": "",
            "zerolinecolor": "white"
           },
           "yaxis": {
            "backgroundcolor": "#E5ECF6",
            "gridcolor": "white",
            "gridwidth": 2,
            "linecolor": "white",
            "showbackground": true,
            "ticks": "",
            "zerolinecolor": "white"
           },
           "zaxis": {
            "backgroundcolor": "#E5ECF6",
            "gridcolor": "white",
            "gridwidth": 2,
            "linecolor": "white",
            "showbackground": true,
            "ticks": "",
            "zerolinecolor": "white"
           }
          },
          "shapedefaults": {
           "line": {
            "color": "#2a3f5f"
           }
          },
          "ternary": {
           "aaxis": {
            "gridcolor": "white",
            "linecolor": "white",
            "ticks": ""
           },
           "baxis": {
            "gridcolor": "white",
            "linecolor": "white",
            "ticks": ""
           },
           "bgcolor": "#E5ECF6",
           "caxis": {
            "gridcolor": "white",
            "linecolor": "white",
            "ticks": ""
           }
          },
          "title": {
           "x": 0.05
          },
          "xaxis": {
           "automargin": true,
           "gridcolor": "white",
           "linecolor": "white",
           "ticks": "",
           "title": {
            "standoff": 15
           },
           "zerolinecolor": "white",
           "zerolinewidth": 2
          },
          "yaxis": {
           "automargin": true,
           "gridcolor": "white",
           "linecolor": "white",
           "ticks": "",
           "title": {
            "standoff": 15
           },
           "zerolinecolor": "white",
           "zerolinewidth": 2
          }
         }
        },
        "title": {
         "text": "Attrition by Department"
        },
        "xaxis": {
         "anchor": "y",
         "domain": [
          0,
          1
         ],
         "title": {
          "text": "Department"
         }
        },
        "yaxis": {
         "anchor": "x",
         "domain": [
          0,
          1
         ],
         "title": {
          "text": "Attrition Rate (%)"
         }
        }
       }
      }
     },
     "metadata": {},
     "output_type": "display_data"
    }
   ],
   "source": [
    "# 3. Bar Chart: Attrition by Department\n",
    "fig_department_bar = px.bar(\n",
    "    x=department_attrition.index,\n",
    "    y=department_attrition.values,\n",
    "    labels={\"x\": \"Department\", \"y\": \"Attrition Rate (%)\"},\n",
    "    title=\"Attrition by Department\",\n",
    "    text=department_attrition.values,\n",
    "    color_discrete_sequence=[\"#EE9B00\"]\n",
    ")\n",
    "fig_department_bar.update_traces(texttemplate='%{text:.2f}%', textposition='outside')\n",
    "fig_department_bar.update_layout(plot_bgcolor=\"#E9D8D6\", paper_bgcolor=\"#E9D8D6\")\n",
    "fig_department_bar.show()"
   ]
  },
  {
   "cell_type": "markdown",
   "metadata": {},
   "source": [
    "**Insight**: Human Resources and Sales have the highest attrition rates at 19.05% and 20.63%, followed by Research & Development at 13.84%. Departments like HR and Sales may need targeted interventions to reduce turnover, such as addressing workload, compensation, or job satisfaction."
   ]
  },
  {
   "cell_type": "code",
   "execution_count": 315,
   "metadata": {},
   "outputs": [
    {
     "data": {
      "application/vnd.plotly.v1+json": {
       "config": {
        "plotlyServerURL": "https://plot.ly"
       },
       "data": [
        {
         "alignmentgroup": "True",
         "hovertemplate": "Attrition Rate (%)=%{x}<br>Years Since Last Promotion=%{y}<extra></extra>",
         "legendgroup": "",
         "marker": {
          "color": "#EE9B00",
          "pattern": {
           "shape": ""
          }
         },
         "name": "",
         "offsetgroup": "",
         "orientation": "h",
         "showlegend": false,
         "textposition": "auto",
         "type": "bar",
         "x": [
          16.95095948827292,
          17.061611374407583,
          6.60377358490566,
          20.37037037037037,
          12.149532710280374
         ],
         "xaxis": "x",
         "y": [
          "0-2",
          "2-4",
          "4-6",
          "6-8",
          "8+"
         ],
         "yaxis": "y"
        }
       ],
       "layout": {
        "barmode": "relative",
        "legend": {
         "tracegroupgap": 0
        },
        "paper_bgcolor": "#E9D8D6",
        "plot_bgcolor": "#E9D8D6",
        "template": {
         "data": {
          "bar": [
           {
            "error_x": {
             "color": "#2a3f5f"
            },
            "error_y": {
             "color": "#2a3f5f"
            },
            "marker": {
             "line": {
              "color": "#E5ECF6",
              "width": 0.5
             },
             "pattern": {
              "fillmode": "overlay",
              "size": 10,
              "solidity": 0.2
             }
            },
            "type": "bar"
           }
          ],
          "barpolar": [
           {
            "marker": {
             "line": {
              "color": "#E5ECF6",
              "width": 0.5
             },
             "pattern": {
              "fillmode": "overlay",
              "size": 10,
              "solidity": 0.2
             }
            },
            "type": "barpolar"
           }
          ],
          "carpet": [
           {
            "aaxis": {
             "endlinecolor": "#2a3f5f",
             "gridcolor": "white",
             "linecolor": "white",
             "minorgridcolor": "white",
             "startlinecolor": "#2a3f5f"
            },
            "baxis": {
             "endlinecolor": "#2a3f5f",
             "gridcolor": "white",
             "linecolor": "white",
             "minorgridcolor": "white",
             "startlinecolor": "#2a3f5f"
            },
            "type": "carpet"
           }
          ],
          "choropleth": [
           {
            "colorbar": {
             "outlinewidth": 0,
             "ticks": ""
            },
            "type": "choropleth"
           }
          ],
          "contour": [
           {
            "colorbar": {
             "outlinewidth": 0,
             "ticks": ""
            },
            "colorscale": [
             [
              0,
              "#0d0887"
             ],
             [
              0.1111111111111111,
              "#46039f"
             ],
             [
              0.2222222222222222,
              "#7201a8"
             ],
             [
              0.3333333333333333,
              "#9c179e"
             ],
             [
              0.4444444444444444,
              "#bd3786"
             ],
             [
              0.5555555555555556,
              "#d8576b"
             ],
             [
              0.6666666666666666,
              "#ed7953"
             ],
             [
              0.7777777777777778,
              "#fb9f3a"
             ],
             [
              0.8888888888888888,
              "#fdca26"
             ],
             [
              1,
              "#f0f921"
             ]
            ],
            "type": "contour"
           }
          ],
          "contourcarpet": [
           {
            "colorbar": {
             "outlinewidth": 0,
             "ticks": ""
            },
            "type": "contourcarpet"
           }
          ],
          "heatmap": [
           {
            "colorbar": {
             "outlinewidth": 0,
             "ticks": ""
            },
            "colorscale": [
             [
              0,
              "#0d0887"
             ],
             [
              0.1111111111111111,
              "#46039f"
             ],
             [
              0.2222222222222222,
              "#7201a8"
             ],
             [
              0.3333333333333333,
              "#9c179e"
             ],
             [
              0.4444444444444444,
              "#bd3786"
             ],
             [
              0.5555555555555556,
              "#d8576b"
             ],
             [
              0.6666666666666666,
              "#ed7953"
             ],
             [
              0.7777777777777778,
              "#fb9f3a"
             ],
             [
              0.8888888888888888,
              "#fdca26"
             ],
             [
              1,
              "#f0f921"
             ]
            ],
            "type": "heatmap"
           }
          ],
          "heatmapgl": [
           {
            "colorbar": {
             "outlinewidth": 0,
             "ticks": ""
            },
            "colorscale": [
             [
              0,
              "#0d0887"
             ],
             [
              0.1111111111111111,
              "#46039f"
             ],
             [
              0.2222222222222222,
              "#7201a8"
             ],
             [
              0.3333333333333333,
              "#9c179e"
             ],
             [
              0.4444444444444444,
              "#bd3786"
             ],
             [
              0.5555555555555556,
              "#d8576b"
             ],
             [
              0.6666666666666666,
              "#ed7953"
             ],
             [
              0.7777777777777778,
              "#fb9f3a"
             ],
             [
              0.8888888888888888,
              "#fdca26"
             ],
             [
              1,
              "#f0f921"
             ]
            ],
            "type": "heatmapgl"
           }
          ],
          "histogram": [
           {
            "marker": {
             "pattern": {
              "fillmode": "overlay",
              "size": 10,
              "solidity": 0.2
             }
            },
            "type": "histogram"
           }
          ],
          "histogram2d": [
           {
            "colorbar": {
             "outlinewidth": 0,
             "ticks": ""
            },
            "colorscale": [
             [
              0,
              "#0d0887"
             ],
             [
              0.1111111111111111,
              "#46039f"
             ],
             [
              0.2222222222222222,
              "#7201a8"
             ],
             [
              0.3333333333333333,
              "#9c179e"
             ],
             [
              0.4444444444444444,
              "#bd3786"
             ],
             [
              0.5555555555555556,
              "#d8576b"
             ],
             [
              0.6666666666666666,
              "#ed7953"
             ],
             [
              0.7777777777777778,
              "#fb9f3a"
             ],
             [
              0.8888888888888888,
              "#fdca26"
             ],
             [
              1,
              "#f0f921"
             ]
            ],
            "type": "histogram2d"
           }
          ],
          "histogram2dcontour": [
           {
            "colorbar": {
             "outlinewidth": 0,
             "ticks": ""
            },
            "colorscale": [
             [
              0,
              "#0d0887"
             ],
             [
              0.1111111111111111,
              "#46039f"
             ],
             [
              0.2222222222222222,
              "#7201a8"
             ],
             [
              0.3333333333333333,
              "#9c179e"
             ],
             [
              0.4444444444444444,
              "#bd3786"
             ],
             [
              0.5555555555555556,
              "#d8576b"
             ],
             [
              0.6666666666666666,
              "#ed7953"
             ],
             [
              0.7777777777777778,
              "#fb9f3a"
             ],
             [
              0.8888888888888888,
              "#fdca26"
             ],
             [
              1,
              "#f0f921"
             ]
            ],
            "type": "histogram2dcontour"
           }
          ],
          "mesh3d": [
           {
            "colorbar": {
             "outlinewidth": 0,
             "ticks": ""
            },
            "type": "mesh3d"
           }
          ],
          "parcoords": [
           {
            "line": {
             "colorbar": {
              "outlinewidth": 0,
              "ticks": ""
             }
            },
            "type": "parcoords"
           }
          ],
          "pie": [
           {
            "automargin": true,
            "type": "pie"
           }
          ],
          "scatter": [
           {
            "fillpattern": {
             "fillmode": "overlay",
             "size": 10,
             "solidity": 0.2
            },
            "type": "scatter"
           }
          ],
          "scatter3d": [
           {
            "line": {
             "colorbar": {
              "outlinewidth": 0,
              "ticks": ""
             }
            },
            "marker": {
             "colorbar": {
              "outlinewidth": 0,
              "ticks": ""
             }
            },
            "type": "scatter3d"
           }
          ],
          "scattercarpet": [
           {
            "marker": {
             "colorbar": {
              "outlinewidth": 0,
              "ticks": ""
             }
            },
            "type": "scattercarpet"
           }
          ],
          "scattergeo": [
           {
            "marker": {
             "colorbar": {
              "outlinewidth": 0,
              "ticks": ""
             }
            },
            "type": "scattergeo"
           }
          ],
          "scattergl": [
           {
            "marker": {
             "colorbar": {
              "outlinewidth": 0,
              "ticks": ""
             }
            },
            "type": "scattergl"
           }
          ],
          "scattermapbox": [
           {
            "marker": {
             "colorbar": {
              "outlinewidth": 0,
              "ticks": ""
             }
            },
            "type": "scattermapbox"
           }
          ],
          "scatterpolar": [
           {
            "marker": {
             "colorbar": {
              "outlinewidth": 0,
              "ticks": ""
             }
            },
            "type": "scatterpolar"
           }
          ],
          "scatterpolargl": [
           {
            "marker": {
             "colorbar": {
              "outlinewidth": 0,
              "ticks": ""
             }
            },
            "type": "scatterpolargl"
           }
          ],
          "scatterternary": [
           {
            "marker": {
             "colorbar": {
              "outlinewidth": 0,
              "ticks": ""
             }
            },
            "type": "scatterternary"
           }
          ],
          "surface": [
           {
            "colorbar": {
             "outlinewidth": 0,
             "ticks": ""
            },
            "colorscale": [
             [
              0,
              "#0d0887"
             ],
             [
              0.1111111111111111,
              "#46039f"
             ],
             [
              0.2222222222222222,
              "#7201a8"
             ],
             [
              0.3333333333333333,
              "#9c179e"
             ],
             [
              0.4444444444444444,
              "#bd3786"
             ],
             [
              0.5555555555555556,
              "#d8576b"
             ],
             [
              0.6666666666666666,
              "#ed7953"
             ],
             [
              0.7777777777777778,
              "#fb9f3a"
             ],
             [
              0.8888888888888888,
              "#fdca26"
             ],
             [
              1,
              "#f0f921"
             ]
            ],
            "type": "surface"
           }
          ],
          "table": [
           {
            "cells": {
             "fill": {
              "color": "#EBF0F8"
             },
             "line": {
              "color": "white"
             }
            },
            "header": {
             "fill": {
              "color": "#C8D4E3"
             },
             "line": {
              "color": "white"
             }
            },
            "type": "table"
           }
          ]
         },
         "layout": {
          "annotationdefaults": {
           "arrowcolor": "#2a3f5f",
           "arrowhead": 0,
           "arrowwidth": 1
          },
          "autotypenumbers": "strict",
          "coloraxis": {
           "colorbar": {
            "outlinewidth": 0,
            "ticks": ""
           }
          },
          "colorscale": {
           "diverging": [
            [
             0,
             "#8e0152"
            ],
            [
             0.1,
             "#c51b7d"
            ],
            [
             0.2,
             "#de77ae"
            ],
            [
             0.3,
             "#f1b6da"
            ],
            [
             0.4,
             "#fde0ef"
            ],
            [
             0.5,
             "#f7f7f7"
            ],
            [
             0.6,
             "#e6f5d0"
            ],
            [
             0.7,
             "#b8e186"
            ],
            [
             0.8,
             "#7fbc41"
            ],
            [
             0.9,
             "#4d9221"
            ],
            [
             1,
             "#276419"
            ]
           ],
           "sequential": [
            [
             0,
             "#0d0887"
            ],
            [
             0.1111111111111111,
             "#46039f"
            ],
            [
             0.2222222222222222,
             "#7201a8"
            ],
            [
             0.3333333333333333,
             "#9c179e"
            ],
            [
             0.4444444444444444,
             "#bd3786"
            ],
            [
             0.5555555555555556,
             "#d8576b"
            ],
            [
             0.6666666666666666,
             "#ed7953"
            ],
            [
             0.7777777777777778,
             "#fb9f3a"
            ],
            [
             0.8888888888888888,
             "#fdca26"
            ],
            [
             1,
             "#f0f921"
            ]
           ],
           "sequentialminus": [
            [
             0,
             "#0d0887"
            ],
            [
             0.1111111111111111,
             "#46039f"
            ],
            [
             0.2222222222222222,
             "#7201a8"
            ],
            [
             0.3333333333333333,
             "#9c179e"
            ],
            [
             0.4444444444444444,
             "#bd3786"
            ],
            [
             0.5555555555555556,
             "#d8576b"
            ],
            [
             0.6666666666666666,
             "#ed7953"
            ],
            [
             0.7777777777777778,
             "#fb9f3a"
            ],
            [
             0.8888888888888888,
             "#fdca26"
            ],
            [
             1,
             "#f0f921"
            ]
           ]
          },
          "colorway": [
           "#636efa",
           "#EF553B",
           "#00cc96",
           "#ab63fa",
           "#FFA15A",
           "#19d3f3",
           "#FF6692",
           "#B6E880",
           "#FF97FF",
           "#FECB52"
          ],
          "font": {
           "color": "#2a3f5f"
          },
          "geo": {
           "bgcolor": "white",
           "lakecolor": "white",
           "landcolor": "#E5ECF6",
           "showlakes": true,
           "showland": true,
           "subunitcolor": "white"
          },
          "hoverlabel": {
           "align": "left"
          },
          "hovermode": "closest",
          "mapbox": {
           "style": "light"
          },
          "paper_bgcolor": "white",
          "plot_bgcolor": "#E5ECF6",
          "polar": {
           "angularaxis": {
            "gridcolor": "white",
            "linecolor": "white",
            "ticks": ""
           },
           "bgcolor": "#E5ECF6",
           "radialaxis": {
            "gridcolor": "white",
            "linecolor": "white",
            "ticks": ""
           }
          },
          "scene": {
           "xaxis": {
            "backgroundcolor": "#E5ECF6",
            "gridcolor": "white",
            "gridwidth": 2,
            "linecolor": "white",
            "showbackground": true,
            "ticks": "",
            "zerolinecolor": "white"
           },
           "yaxis": {
            "backgroundcolor": "#E5ECF6",
            "gridcolor": "white",
            "gridwidth": 2,
            "linecolor": "white",
            "showbackground": true,
            "ticks": "",
            "zerolinecolor": "white"
           },
           "zaxis": {
            "backgroundcolor": "#E5ECF6",
            "gridcolor": "white",
            "gridwidth": 2,
            "linecolor": "white",
            "showbackground": true,
            "ticks": "",
            "zerolinecolor": "white"
           }
          },
          "shapedefaults": {
           "line": {
            "color": "#2a3f5f"
           }
          },
          "ternary": {
           "aaxis": {
            "gridcolor": "white",
            "linecolor": "white",
            "ticks": ""
           },
           "baxis": {
            "gridcolor": "white",
            "linecolor": "white",
            "ticks": ""
           },
           "bgcolor": "#E5ECF6",
           "caxis": {
            "gridcolor": "white",
            "linecolor": "white",
            "ticks": ""
           }
          },
          "title": {
           "x": 0.05
          },
          "xaxis": {
           "automargin": true,
           "gridcolor": "white",
           "linecolor": "white",
           "ticks": "",
           "title": {
            "standoff": 15
           },
           "zerolinecolor": "white",
           "zerolinewidth": 2
          },
          "yaxis": {
           "automargin": true,
           "gridcolor": "white",
           "linecolor": "white",
           "ticks": "",
           "title": {
            "standoff": 15
           },
           "zerolinecolor": "white",
           "zerolinewidth": 2
          }
         }
        },
        "title": {
         "text": "Attrition by Years Since Last Promotion"
        },
        "xaxis": {
         "anchor": "y",
         "domain": [
          0,
          1
         ],
         "title": {
          "text": "Attrition Rate (%)"
         }
        },
        "yaxis": {
         "anchor": "x",
         "domain": [
          0,
          1
         ],
         "title": {
          "text": "Years Since Last Promotion"
         }
        }
       }
      }
     },
     "metadata": {},
     "output_type": "display_data"
    }
   ],
   "source": [
    "# 6. Horizontal Bar Chart: Attrition by Years Since Last Promotion\n",
    "fig_promotion_bar = px.bar(\n",
    "    y=promotion_attrition.index,\n",
    "    x=promotion_attrition.values,\n",
    "    orientation=\"h\",\n",
    "    labels={\"x\": \"Attrition Rate (%)\", \"y\": \"Years Since Last Promotion\"},\n",
    "    title=\"Attrition by Years Since Last Promotion\",\n",
    "    color_discrete_sequence=[\"#EE9B00\"]\n",
    ")\n",
    "fig_promotion_bar.update_layout(plot_bgcolor=\"#E9D8D6\", paper_bgcolor=\"#E9D8D6\")\n",
    "fig_promotion_bar.show()"
   ]
  },
  {
   "cell_type": "markdown",
   "metadata": {},
   "source": [
    "**Insight**: Employees with 6-8 years since their last promotion show the highest attrition rate, followed by 0-2 years and 4-6 years. This suggests that a lack of career advancement opportunities drives attrition, particularly after several years, indicating the need for improved promotion pathways."
   ]
  },
  {
   "cell_type": "code",
   "execution_count": 316,
   "metadata": {},
   "outputs": [
    {
     "data": {
      "application/vnd.plotly.v1+json": {
       "config": {
        "plotlyServerURL": "https://plot.ly"
       },
       "data": [
        {
         "alignmentgroup": "True",
         "box": {
          "visible": true
         },
         "hovertemplate": "Attrition (Yes=1/No=0)=%{x}<br>Job Satisfaction=%{y}<extra></extra>",
         "legendgroup": "1",
         "marker": {
          "color": "#00cc96"
         },
         "name": "1",
         "offsetgroup": "1",
         "orientation": "v",
         "points": "all",
         "scalegroup": "True",
         "showlegend": true,
         "type": "violin",
         "x": [
          1,
          1,
          1,
          1,
          1,
          1,
          1,
          1,
          1,
          1,
          1,
          1,
          1,
          1,
          1,
          1,
          1,
          1,
          1,
          1,
          1,
          1,
          1,
          1,
          1,
          1,
          1,
          1,
          1,
          1,
          1,
          1,
          1,
          1,
          1,
          1,
          1,
          1,
          1,
          1,
          1,
          1,
          1,
          1,
          1,
          1,
          1,
          1,
          1,
          1,
          1,
          1,
          1,
          1,
          1,
          1,
          1,
          1,
          1,
          1,
          1,
          1,
          1,
          1,
          1,
          1,
          1,
          1,
          1,
          1,
          1,
          1,
          1,
          1,
          1,
          1,
          1,
          1,
          1,
          1,
          1,
          1,
          1,
          1,
          1,
          1,
          1,
          1,
          1,
          1,
          1,
          1,
          1,
          1,
          1,
          1,
          1,
          1,
          1,
          1,
          1,
          1,
          1,
          1,
          1,
          1,
          1,
          1,
          1,
          1,
          1,
          1,
          1,
          1,
          1,
          1,
          1,
          1,
          1,
          1,
          1,
          1,
          1,
          1,
          1,
          1,
          1,
          1,
          1,
          1,
          1,
          1,
          1,
          1,
          1,
          1,
          1,
          1,
          1,
          1,
          1,
          1,
          1,
          1,
          1,
          1,
          1,
          1,
          1,
          1,
          1,
          1,
          1,
          1,
          1,
          1,
          1,
          1,
          1,
          1,
          1,
          1,
          1,
          1,
          1,
          1,
          1,
          1,
          1,
          1,
          1,
          1,
          1,
          1,
          1,
          1,
          1,
          1,
          1,
          1,
          1,
          1,
          1,
          1,
          1,
          1,
          1,
          1,
          1,
          1,
          1,
          1,
          1,
          1,
          1,
          1,
          1,
          1,
          1,
          1,
          1,
          1,
          1,
          1,
          1,
          1,
          1,
          1,
          1,
          1,
          1,
          1,
          1,
          1,
          1,
          1,
          1,
          1,
          1,
          1,
          1,
          1,
          1,
          1,
          1,
          1,
          1,
          1,
          1,
          1,
          1,
          1,
          1,
          1,
          1,
          1,
          1
         ],
         "x0": " ",
         "xaxis": "x",
         "y": [
          4,
          3,
          3,
          1,
          1,
          1,
          4,
          4,
          3,
          3,
          3,
          3,
          3,
          3,
          4,
          1,
          4,
          3,
          3,
          2,
          3,
          4,
          3,
          3,
          4,
          1,
          1,
          4,
          2,
          3,
          1,
          4,
          4,
          1,
          1,
          3,
          4,
          4,
          1,
          3,
          3,
          2,
          3,
          2,
          3,
          2,
          4,
          3,
          2,
          4,
          3,
          1,
          2,
          3,
          2,
          3,
          2,
          4,
          1,
          4,
          1,
          2,
          3,
          2,
          4,
          3,
          4,
          3,
          1,
          3,
          3,
          2,
          4,
          3,
          3,
          1,
          1,
          1,
          1,
          3,
          1,
          3,
          3,
          2,
          3,
          4,
          3,
          1,
          1,
          1,
          1,
          1,
          2,
          3,
          4,
          4,
          3,
          2,
          3,
          4,
          4,
          3,
          4,
          3,
          4,
          1,
          2,
          2,
          1,
          4,
          3,
          3,
          2,
          1,
          1,
          3,
          2,
          1,
          2,
          2,
          1,
          4,
          1,
          3,
          1,
          4,
          1,
          3,
          1,
          1,
          1,
          3,
          4,
          3,
          2,
          2,
          3,
          4,
          3,
          1,
          3,
          1,
          1,
          4,
          3,
          3,
          4,
          1,
          2,
          2,
          4,
          2,
          3,
          4,
          3,
          3,
          1,
          2,
          2,
          2,
          1,
          1,
          3,
          4,
          3,
          3,
          3,
          1,
          4,
          3,
          2,
          1,
          4,
          1,
          2,
          4,
          3,
          3,
          2,
          2,
          1,
          1,
          1,
          1,
          3,
          1,
          1,
          4,
          2,
          2,
          4,
          1,
          4,
          1,
          4,
          3,
          3,
          2,
          4,
          3,
          3,
          1,
          2,
          4,
          2,
          1,
          3,
          3,
          2,
          1,
          2,
          4,
          1,
          1,
          2,
          2,
          1,
          1,
          2,
          4,
          2,
          4,
          2,
          1,
          4,
          1,
          3,
          3,
          2,
          4,
          4,
          1,
          1,
          4,
          3,
          3,
          1
         ],
         "y0": " ",
         "yaxis": "y"
        },
        {
         "alignmentgroup": "True",
         "box": {
          "visible": true
         },
         "hovertemplate": "Attrition (Yes=1/No=0)=%{x}<br>Job Satisfaction=%{y}<extra></extra>",
         "legendgroup": "0",
         "marker": {
          "color": "#ab63fa"
         },
         "name": "0",
         "offsetgroup": "0",
         "orientation": "v",
         "points": "all",
         "scalegroup": "True",
         "showlegend": true,
         "type": "violin",
         "x": [
          0,
          0,
          0,
          0,
          0,
          0,
          0,
          0,
          0,
          0,
          0,
          0,
          0,
          0,
          0,
          0,
          0,
          0,
          0,
          0,
          0,
          0,
          0,
          0,
          0,
          0,
          0,
          0,
          0,
          0,
          0,
          0,
          0,
          0,
          0,
          0,
          0,
          0,
          0,
          0,
          0,
          0,
          0,
          0,
          0,
          0,
          0,
          0,
          0,
          0,
          0,
          0,
          0,
          0,
          0,
          0,
          0,
          0,
          0,
          0,
          0,
          0,
          0,
          0,
          0,
          0,
          0,
          0,
          0,
          0,
          0,
          0,
          0,
          0,
          0,
          0,
          0,
          0,
          0,
          0,
          0,
          0,
          0,
          0,
          0,
          0,
          0,
          0,
          0,
          0,
          0,
          0,
          0,
          0,
          0,
          0,
          0,
          0,
          0,
          0,
          0,
          0,
          0,
          0,
          0,
          0,
          0,
          0,
          0,
          0,
          0,
          0,
          0,
          0,
          0,
          0,
          0,
          0,
          0,
          0,
          0,
          0,
          0,
          0,
          0,
          0,
          0,
          0,
          0,
          0,
          0,
          0,
          0,
          0,
          0,
          0,
          0,
          0,
          0,
          0,
          0,
          0,
          0,
          0,
          0,
          0,
          0,
          0,
          0,
          0,
          0,
          0,
          0,
          0,
          0,
          0,
          0,
          0,
          0,
          0,
          0,
          0,
          0,
          0,
          0,
          0,
          0,
          0,
          0,
          0,
          0,
          0,
          0,
          0,
          0,
          0,
          0,
          0,
          0,
          0,
          0,
          0,
          0,
          0,
          0,
          0,
          0,
          0,
          0,
          0,
          0,
          0,
          0,
          0,
          0,
          0,
          0,
          0,
          0,
          0,
          0,
          0,
          0,
          0,
          0,
          0,
          0,
          0,
          0,
          0,
          0,
          0,
          0,
          0,
          0,
          0,
          0,
          0,
          0,
          0,
          0,
          0,
          0,
          0,
          0,
          0,
          0,
          0,
          0,
          0,
          0,
          0,
          0,
          0,
          0,
          0,
          0,
          0,
          0,
          0,
          0,
          0,
          0,
          0,
          0,
          0,
          0,
          0,
          0,
          0,
          0,
          0,
          0,
          0,
          0,
          0,
          0,
          0,
          0,
          0,
          0,
          0,
          0,
          0,
          0,
          0,
          0,
          0,
          0,
          0,
          0,
          0,
          0,
          0,
          0,
          0,
          0,
          0,
          0,
          0,
          0,
          0,
          0,
          0,
          0,
          0,
          0,
          0,
          0,
          0,
          0,
          0,
          0,
          0,
          0,
          0,
          0,
          0,
          0,
          0,
          0,
          0,
          0,
          0,
          0,
          0,
          0,
          0,
          0,
          0,
          0,
          0,
          0,
          0,
          0,
          0,
          0,
          0,
          0,
          0,
          0,
          0,
          0,
          0,
          0,
          0,
          0,
          0,
          0,
          0,
          0,
          0,
          0,
          0,
          0,
          0,
          0,
          0,
          0,
          0,
          0,
          0,
          0,
          0,
          0,
          0,
          0,
          0,
          0,
          0,
          0,
          0,
          0,
          0,
          0,
          0,
          0,
          0,
          0,
          0,
          0,
          0,
          0,
          0,
          0,
          0,
          0,
          0,
          0,
          0,
          0,
          0,
          0,
          0,
          0,
          0,
          0,
          0,
          0,
          0,
          0,
          0,
          0,
          0,
          0,
          0,
          0,
          0,
          0,
          0,
          0,
          0,
          0,
          0,
          0,
          0,
          0,
          0,
          0,
          0,
          0,
          0,
          0,
          0,
          0,
          0,
          0,
          0,
          0,
          0,
          0,
          0,
          0,
          0,
          0,
          0,
          0,
          0,
          0,
          0,
          0,
          0,
          0,
          0,
          0,
          0,
          0,
          0,
          0,
          0,
          0,
          0,
          0,
          0,
          0,
          0,
          0,
          0,
          0,
          0,
          0,
          0,
          0,
          0,
          0,
          0,
          0,
          0,
          0,
          0,
          0,
          0,
          0,
          0,
          0,
          0,
          0,
          0,
          0,
          0,
          0,
          0,
          0,
          0,
          0,
          0,
          0,
          0,
          0,
          0,
          0,
          0,
          0,
          0,
          0,
          0,
          0,
          0,
          0,
          0,
          0,
          0,
          0,
          0,
          0,
          0,
          0,
          0,
          0,
          0,
          0,
          0,
          0,
          0,
          0,
          0,
          0,
          0,
          0,
          0,
          0,
          0,
          0,
          0,
          0,
          0,
          0,
          0,
          0,
          0,
          0,
          0,
          0,
          0,
          0,
          0,
          0,
          0,
          0,
          0,
          0,
          0,
          0,
          0,
          0,
          0,
          0,
          0,
          0,
          0,
          0,
          0,
          0,
          0,
          0,
          0,
          0,
          0,
          0,
          0,
          0,
          0,
          0,
          0,
          0,
          0,
          0,
          0,
          0,
          0,
          0,
          0,
          0,
          0,
          0,
          0,
          0,
          0,
          0,
          0,
          0,
          0,
          0,
          0,
          0,
          0,
          0,
          0,
          0,
          0,
          0,
          0,
          0,
          0,
          0,
          0,
          0,
          0,
          0,
          0,
          0,
          0,
          0,
          0,
          0,
          0,
          0,
          0,
          0,
          0,
          0,
          0,
          0,
          0,
          0,
          0,
          0,
          0,
          0,
          0,
          0,
          0,
          0,
          0,
          0,
          0,
          0,
          0,
          0,
          0,
          0,
          0,
          0,
          0,
          0,
          0,
          0,
          0,
          0,
          0,
          0,
          0,
          0,
          0,
          0,
          0,
          0,
          0,
          0,
          0,
          0,
          0,
          0,
          0,
          0,
          0,
          0,
          0,
          0,
          0,
          0,
          0,
          0,
          0,
          0,
          0,
          0,
          0,
          0,
          0,
          0,
          0,
          0,
          0,
          0,
          0,
          0,
          0,
          0,
          0,
          0,
          0,
          0,
          0,
          0,
          0,
          0,
          0,
          0,
          0,
          0,
          0,
          0,
          0,
          0,
          0,
          0,
          0,
          0,
          0,
          0,
          0,
          0,
          0,
          0,
          0,
          0,
          0,
          0,
          0,
          0,
          0,
          0,
          0,
          0,
          0,
          0,
          0,
          0,
          0,
          0,
          0,
          0,
          0,
          0,
          0,
          0,
          0,
          0,
          0,
          0,
          0,
          0,
          0,
          0,
          0,
          0,
          0,
          0,
          0,
          0,
          0,
          0,
          0,
          0,
          0,
          0,
          0,
          0,
          0,
          0,
          0,
          0,
          0,
          0,
          0,
          0,
          0,
          0,
          0,
          0,
          0,
          0,
          0,
          0,
          0,
          0,
          0,
          0,
          0,
          0,
          0,
          0,
          0,
          0,
          0,
          0,
          0,
          0,
          0,
          0,
          0,
          0,
          0,
          0,
          0,
          0,
          0,
          0,
          0,
          0,
          0,
          0,
          0,
          0,
          0,
          0,
          0,
          0,
          0,
          0,
          0,
          0,
          0,
          0,
          0,
          0,
          0,
          0,
          0,
          0,
          0,
          0,
          0,
          0,
          0,
          0,
          0,
          0,
          0,
          0,
          0,
          0,
          0,
          0,
          0,
          0,
          0,
          0,
          0,
          0,
          0,
          0,
          0,
          0,
          0,
          0,
          0,
          0,
          0,
          0,
          0,
          0,
          0,
          0,
          0,
          0,
          0,
          0,
          0,
          0,
          0,
          0,
          0,
          0,
          0,
          0,
          0,
          0,
          0,
          0,
          0,
          0,
          0,
          0,
          0,
          0,
          0,
          0,
          0,
          0,
          0,
          0,
          0,
          0,
          0,
          0,
          0,
          0,
          0,
          0,
          0,
          0,
          0,
          0,
          0,
          0,
          0,
          0,
          0,
          0,
          0,
          0,
          0,
          0,
          0,
          0,
          0,
          0,
          0,
          0,
          0,
          0,
          0,
          0,
          0,
          0,
          0,
          0,
          0,
          0,
          0,
          0,
          0,
          0,
          0,
          0,
          0,
          0,
          0,
          0,
          0,
          0,
          0,
          0,
          0,
          0,
          0,
          0,
          0,
          0,
          0,
          0,
          0,
          0,
          0,
          0,
          0,
          0,
          0,
          0,
          0,
          0,
          0,
          0,
          0,
          0,
          0,
          0,
          0,
          0,
          0,
          0,
          0,
          0,
          0,
          0,
          0,
          0,
          0,
          0,
          0,
          0,
          0,
          0,
          0,
          0,
          0,
          0,
          0,
          0,
          0,
          0,
          0,
          0,
          0,
          0,
          0,
          0,
          0,
          0,
          0,
          0,
          0,
          0,
          0,
          0,
          0,
          0,
          0,
          0,
          0,
          0,
          0,
          0,
          0,
          0,
          0,
          0,
          0,
          0,
          0,
          0,
          0,
          0,
          0,
          0,
          0,
          0,
          0,
          0,
          0,
          0,
          0,
          0,
          0,
          0,
          0,
          0,
          0,
          0,
          0,
          0,
          0,
          0,
          0,
          0,
          0,
          0,
          0,
          0,
          0,
          0,
          0,
          0,
          0,
          0,
          0,
          0,
          0,
          0,
          0,
          0,
          0,
          0,
          0,
          0,
          0,
          0,
          0,
          0,
          0,
          0,
          0,
          0,
          0,
          0,
          0,
          0,
          0,
          0,
          0,
          0,
          0,
          0,
          0,
          0,
          0,
          0,
          0,
          0,
          0,
          0,
          0,
          0,
          0,
          0,
          0,
          0,
          0,
          0,
          0,
          0,
          0,
          0,
          0,
          0,
          0,
          0,
          0,
          0,
          0,
          0,
          0,
          0,
          0,
          0,
          0,
          0,
          0,
          0,
          0,
          0,
          0,
          0,
          0,
          0,
          0,
          0,
          0,
          0,
          0,
          0,
          0,
          0,
          0,
          0,
          0,
          0,
          0,
          0,
          0,
          0,
          0,
          0,
          0,
          0,
          0,
          0,
          0,
          0,
          0,
          0,
          0,
          0,
          0,
          0,
          0,
          0,
          0,
          0,
          0,
          0,
          0,
          0,
          0,
          0,
          0,
          0,
          0,
          0,
          0,
          0,
          0,
          0,
          0,
          0,
          0,
          0,
          0,
          0,
          0,
          0,
          0,
          0,
          0,
          0,
          0,
          0,
          0,
          0,
          0,
          0,
          0,
          0,
          0,
          0,
          0,
          0,
          0,
          0,
          0,
          0,
          0,
          0,
          0,
          0,
          0,
          0,
          0,
          0,
          0,
          0,
          0,
          0,
          0,
          0,
          0,
          0,
          0,
          0,
          0,
          0,
          0,
          0,
          0,
          0,
          0,
          0,
          0,
          0,
          0,
          0,
          0,
          0,
          0,
          0,
          0,
          0,
          0,
          0,
          0,
          0,
          0,
          0,
          0,
          0,
          0,
          0,
          0,
          0,
          0,
          0,
          0,
          0,
          0,
          0,
          0,
          0,
          0,
          0,
          0,
          0,
          0,
          0,
          0,
          0,
          0,
          0,
          0,
          0,
          0,
          0
         ],
         "x0": " ",
         "xaxis": "x",
         "y": [
          2,
          3,
          2,
          4,
          1,
          3,
          3,
          3,
          2,
          3,
          3,
          4,
          1,
          2,
          4,
          4,
          4,
          3,
          2,
          4,
          3,
          2,
          4,
          1,
          4,
          4,
          3,
          3,
          4,
          1,
          1,
          4,
          1,
          3,
          4,
          3,
          2,
          4,
          4,
          1,
          1,
          4,
          4,
          1,
          1,
          4,
          3,
          4,
          4,
          3,
          1,
          3,
          3,
          2,
          1,
          1,
          3,
          2,
          2,
          2,
          4,
          4,
          1,
          1,
          3,
          2,
          4,
          3,
          4,
          4,
          2,
          4,
          1,
          4,
          4,
          2,
          4,
          2,
          1,
          3,
          3,
          3,
          3,
          3,
          2,
          1,
          3,
          4,
          4,
          2,
          4,
          4,
          1,
          4,
          3,
          2,
          4,
          1,
          4,
          4,
          4,
          3,
          2,
          3,
          2,
          4,
          1,
          3,
          4,
          3,
          3,
          2,
          3,
          3,
          4,
          4,
          3,
          3,
          4,
          1,
          4,
          1,
          1,
          2,
          2,
          2,
          3,
          2,
          4,
          3,
          3,
          2,
          4,
          3,
          4,
          2,
          4,
          4,
          3,
          2,
          3,
          4,
          4,
          3,
          2,
          2,
          1,
          1,
          1,
          4,
          1,
          4,
          4,
          2,
          3,
          1,
          2,
          3,
          2,
          3,
          2,
          3,
          2,
          4,
          4,
          1,
          2,
          3,
          3,
          4,
          1,
          4,
          3,
          4,
          2,
          4,
          4,
          1,
          3,
          3,
          2,
          4,
          4,
          1,
          2,
          2,
          4,
          3,
          3,
          4,
          4,
          4,
          3,
          4,
          4,
          3,
          4,
          4,
          3,
          2,
          3,
          4,
          1,
          4,
          4,
          3,
          4,
          1,
          1,
          3,
          3,
          4,
          1,
          4,
          3,
          1,
          3,
          4,
          2,
          4,
          1,
          2,
          2,
          4,
          1,
          4,
          4,
          1,
          4,
          4,
          3,
          4,
          2,
          1,
          2,
          2,
          3,
          3,
          4,
          4,
          1,
          4,
          4,
          4,
          1,
          2,
          2,
          4,
          2,
          2,
          4,
          2,
          2,
          3,
          1,
          4,
          4,
          2,
          3,
          2,
          3,
          4,
          1,
          1,
          4,
          2,
          1,
          4,
          3,
          2,
          2,
          3,
          4,
          4,
          4,
          3,
          4,
          4,
          3,
          3,
          2,
          3,
          1,
          4,
          4,
          4,
          3,
          2,
          4,
          4,
          4,
          2,
          2,
          4,
          2,
          3,
          4,
          3,
          3,
          2,
          3,
          1,
          3,
          3,
          4,
          4,
          4,
          3,
          3,
          4,
          1,
          3,
          4,
          2,
          4,
          2,
          2,
          4,
          3,
          4,
          3,
          4,
          3,
          2,
          2,
          3,
          1,
          2,
          1,
          2,
          2,
          3,
          1,
          3,
          1,
          4,
          3,
          4,
          3,
          1,
          3,
          1,
          3,
          1,
          1,
          3,
          4,
          4,
          3,
          4,
          1,
          3,
          4,
          4,
          3,
          4,
          4,
          3,
          1,
          4,
          3,
          4,
          1,
          4,
          3,
          3,
          3,
          3,
          4,
          2,
          2,
          3,
          3,
          4,
          4,
          2,
          4,
          3,
          3,
          3,
          4,
          1,
          2,
          4,
          3,
          4,
          1,
          3,
          3,
          3,
          4,
          4,
          3,
          1,
          2,
          1,
          4,
          3,
          2,
          3,
          4,
          2,
          2,
          2,
          3,
          4,
          4,
          4,
          3,
          3,
          2,
          4,
          4,
          1,
          3,
          1,
          3,
          3,
          3,
          4,
          3,
          3,
          4,
          3,
          1,
          4,
          4,
          3,
          3,
          4,
          4,
          2,
          2,
          4,
          3,
          1,
          2,
          4,
          4,
          2,
          4,
          4,
          3,
          2,
          3,
          4,
          4,
          1,
          4,
          1,
          1,
          3,
          4,
          1,
          1,
          3,
          2,
          1,
          3,
          3,
          3,
          4,
          3,
          4,
          3,
          1,
          2,
          4,
          4,
          1,
          2,
          4,
          1,
          4,
          3,
          1,
          1,
          4,
          3,
          3,
          4,
          1,
          4,
          4,
          3,
          4,
          1,
          4,
          1,
          1,
          1,
          4,
          3,
          2,
          1,
          4,
          2,
          3,
          3,
          3,
          4,
          2,
          3,
          3,
          4,
          2,
          3,
          3,
          4,
          3,
          2,
          1,
          4,
          1,
          4,
          3,
          2,
          4,
          4,
          3,
          2,
          1,
          1,
          1,
          4,
          4,
          4,
          4,
          1,
          3,
          4,
          3,
          4,
          4,
          4,
          4,
          1,
          1,
          3,
          4,
          1,
          1,
          4,
          2,
          2,
          4,
          4,
          4,
          2,
          4,
          4,
          4,
          4,
          2,
          1,
          4,
          2,
          4,
          1,
          4,
          2,
          4,
          4,
          3,
          3,
          2,
          3,
          1,
          2,
          3,
          4,
          2,
          3,
          3,
          4,
          1,
          2,
          2,
          1,
          1,
          3,
          4,
          2,
          1,
          4,
          2,
          4,
          3,
          4,
          3,
          3,
          4,
          4,
          3,
          3,
          4,
          3,
          4,
          4,
          4,
          2,
          3,
          2,
          1,
          4,
          3,
          3,
          3,
          3,
          1,
          4,
          3,
          3,
          1,
          4,
          1,
          3,
          3,
          3,
          4,
          4,
          4,
          3,
          4,
          4,
          2,
          3,
          4,
          4,
          3,
          1,
          4,
          4,
          3,
          4,
          4,
          2,
          2,
          3,
          2,
          3,
          3,
          2,
          1,
          3,
          4,
          3,
          3,
          4,
          1,
          4,
          1,
          1,
          1,
          3,
          3,
          4,
          3,
          2,
          3,
          4,
          3,
          4,
          4,
          1,
          2,
          4,
          4,
          3,
          2,
          3,
          4,
          2,
          3,
          2,
          1,
          3,
          2,
          2,
          4,
          4,
          2,
          4,
          2,
          3,
          2,
          4,
          4,
          3,
          3,
          4,
          4,
          3,
          3,
          3,
          3,
          1,
          3,
          2,
          4,
          3,
          4,
          2,
          1,
          4,
          1,
          1,
          4,
          1,
          3,
          4,
          3,
          3,
          4,
          1,
          3,
          3,
          1,
          2,
          1,
          1,
          2,
          1,
          3,
          3,
          3,
          4,
          4,
          4,
          1,
          4,
          2,
          3,
          1,
          4,
          2,
          4,
          2,
          1,
          4,
          1,
          3,
          4,
          4,
          4,
          1,
          1,
          4,
          4,
          3,
          2,
          2,
          3,
          4,
          4,
          4,
          3,
          2,
          3,
          4,
          3,
          4,
          2,
          2,
          1,
          2,
          4,
          2,
          3,
          1,
          2,
          3,
          2,
          4,
          2,
          4,
          3,
          3,
          1,
          2,
          4,
          2,
          2,
          3,
          4,
          3,
          1,
          4,
          1,
          1,
          3,
          3,
          2,
          3,
          3,
          2,
          3,
          4,
          4,
          1,
          3,
          2,
          1,
          1,
          4,
          2,
          1,
          4,
          4,
          2,
          4,
          4,
          4,
          2,
          3,
          3,
          3,
          3,
          4,
          1,
          4,
          2,
          4,
          3,
          4,
          2,
          3,
          3,
          3,
          3,
          4,
          4,
          1,
          1,
          3,
          4,
          4,
          1,
          1,
          4,
          1,
          4,
          2,
          1,
          2,
          1,
          1,
          4,
          1,
          4,
          3,
          1,
          3,
          3,
          4,
          2,
          3,
          3,
          4,
          1,
          2,
          4,
          1,
          2,
          1,
          3,
          2,
          3,
          3,
          2,
          1,
          1,
          3,
          4,
          3,
          3,
          3,
          2,
          1,
          3,
          2,
          3,
          3,
          3,
          3,
          2,
          3,
          3,
          1,
          1,
          2,
          2,
          3,
          4,
          4,
          1,
          2,
          2,
          2,
          3,
          3,
          4,
          3,
          2,
          4,
          1,
          2,
          4,
          4,
          1,
          3,
          4,
          1,
          4,
          2,
          3,
          2,
          4,
          3,
          3,
          1,
          3,
          1,
          2,
          1,
          1,
          4,
          4,
          4,
          4,
          2,
          2,
          3,
          1,
          3,
          3,
          4,
          3,
          3,
          1,
          4,
          3,
          3,
          1,
          2,
          4,
          1,
          3,
          3,
          4,
          4,
          2,
          1,
          1,
          1,
          3,
          4,
          1,
          1,
          1,
          1,
          1,
          4,
          3,
          3,
          3,
          3,
          3,
          3,
          4,
          3,
          2,
          4,
          4,
          4,
          4,
          3,
          4,
          3,
          1,
          3,
          2,
          2,
          1,
          3,
          2,
          2,
          3,
          3,
          1,
          3,
          3,
          4,
          2,
          4,
          2,
          4,
          1,
          2,
          2,
          3,
          3,
          1,
          4,
          3,
          4,
          3,
          4,
          4,
          2,
          4,
          4,
          2,
          4,
          4,
          4,
          4,
          4,
          3,
          3,
          3,
          4,
          3,
          3,
          2,
          3,
          3,
          2,
          1,
          1,
          2,
          3,
          4,
          2,
          4,
          2,
          4,
          4,
          3,
          2,
          3,
          1,
          4,
          3,
          4,
          3,
          1,
          4,
          2,
          4,
          2,
          1,
          3,
          2,
          4,
          2,
          1,
          2,
          1,
          3,
          3,
          4,
          4,
          3,
          4,
          3,
          2,
          4,
          1,
          2,
          1,
          4,
          3,
          2,
          1,
          1,
          4,
          2,
          4,
          3,
          2,
          3,
          3,
          4,
          3,
          2,
          3,
          2,
          1,
          4,
          1,
          1,
          4,
          4,
          3,
          3,
          3,
          2,
          4,
          4,
          4,
          4,
          3,
          3,
          4,
          4,
          3,
          3,
          1,
          3,
          2,
          3,
          2,
          1,
          4,
          4,
          2,
          3,
          3,
          4,
          1,
          1,
          2,
          4,
          4,
          1,
          3,
          3,
          4,
          1,
          2,
          2,
          1,
          4,
          4,
          3,
          4,
          3,
          3,
          4,
          3,
          2,
          4,
          2,
          1,
          1,
          2,
          4,
          4,
          4,
          4,
          1,
          3,
          1,
          2,
          4,
          3,
          1,
          1,
          4,
          1,
          1,
          4,
          4,
          4,
          3,
          3,
          3,
          2,
          2,
          4,
          1,
          3,
          3,
          1,
          3,
          4,
          3,
          2,
          2,
          2,
          3,
          3,
          3,
          2,
          3,
          3,
          1,
          4,
          2,
          3,
          3,
          3,
          4,
          2,
          4,
          2,
          4,
          3,
          4,
          4,
          3,
          4,
          4,
          1,
          4,
          4,
          2,
          3,
          3,
          2,
          3,
          4,
          2,
          1,
          4,
          4,
          4,
          3,
          3,
          3,
          3,
          4,
          2,
          1,
          4,
          1,
          3,
          4,
          1,
          2,
          2,
          3
         ],
         "y0": " ",
         "yaxis": "y"
        }
       ],
       "layout": {
        "legend": {
         "title": {
          "text": "Attrition (Yes=1/No=0)"
         },
         "tracegroupgap": 0
        },
        "paper_bgcolor": "#E9D8D6",
        "plot_bgcolor": "#E9D8D6",
        "showlegend": false,
        "template": {
         "data": {
          "bar": [
           {
            "error_x": {
             "color": "#2a3f5f"
            },
            "error_y": {
             "color": "#2a3f5f"
            },
            "marker": {
             "line": {
              "color": "#E5ECF6",
              "width": 0.5
             },
             "pattern": {
              "fillmode": "overlay",
              "size": 10,
              "solidity": 0.2
             }
            },
            "type": "bar"
           }
          ],
          "barpolar": [
           {
            "marker": {
             "line": {
              "color": "#E5ECF6",
              "width": 0.5
             },
             "pattern": {
              "fillmode": "overlay",
              "size": 10,
              "solidity": 0.2
             }
            },
            "type": "barpolar"
           }
          ],
          "carpet": [
           {
            "aaxis": {
             "endlinecolor": "#2a3f5f",
             "gridcolor": "white",
             "linecolor": "white",
             "minorgridcolor": "white",
             "startlinecolor": "#2a3f5f"
            },
            "baxis": {
             "endlinecolor": "#2a3f5f",
             "gridcolor": "white",
             "linecolor": "white",
             "minorgridcolor": "white",
             "startlinecolor": "#2a3f5f"
            },
            "type": "carpet"
           }
          ],
          "choropleth": [
           {
            "colorbar": {
             "outlinewidth": 0,
             "ticks": ""
            },
            "type": "choropleth"
           }
          ],
          "contour": [
           {
            "colorbar": {
             "outlinewidth": 0,
             "ticks": ""
            },
            "colorscale": [
             [
              0,
              "#0d0887"
             ],
             [
              0.1111111111111111,
              "#46039f"
             ],
             [
              0.2222222222222222,
              "#7201a8"
             ],
             [
              0.3333333333333333,
              "#9c179e"
             ],
             [
              0.4444444444444444,
              "#bd3786"
             ],
             [
              0.5555555555555556,
              "#d8576b"
             ],
             [
              0.6666666666666666,
              "#ed7953"
             ],
             [
              0.7777777777777778,
              "#fb9f3a"
             ],
             [
              0.8888888888888888,
              "#fdca26"
             ],
             [
              1,
              "#f0f921"
             ]
            ],
            "type": "contour"
           }
          ],
          "contourcarpet": [
           {
            "colorbar": {
             "outlinewidth": 0,
             "ticks": ""
            },
            "type": "contourcarpet"
           }
          ],
          "heatmap": [
           {
            "colorbar": {
             "outlinewidth": 0,
             "ticks": ""
            },
            "colorscale": [
             [
              0,
              "#0d0887"
             ],
             [
              0.1111111111111111,
              "#46039f"
             ],
             [
              0.2222222222222222,
              "#7201a8"
             ],
             [
              0.3333333333333333,
              "#9c179e"
             ],
             [
              0.4444444444444444,
              "#bd3786"
             ],
             [
              0.5555555555555556,
              "#d8576b"
             ],
             [
              0.6666666666666666,
              "#ed7953"
             ],
             [
              0.7777777777777778,
              "#fb9f3a"
             ],
             [
              0.8888888888888888,
              "#fdca26"
             ],
             [
              1,
              "#f0f921"
             ]
            ],
            "type": "heatmap"
           }
          ],
          "heatmapgl": [
           {
            "colorbar": {
             "outlinewidth": 0,
             "ticks": ""
            },
            "colorscale": [
             [
              0,
              "#0d0887"
             ],
             [
              0.1111111111111111,
              "#46039f"
             ],
             [
              0.2222222222222222,
              "#7201a8"
             ],
             [
              0.3333333333333333,
              "#9c179e"
             ],
             [
              0.4444444444444444,
              "#bd3786"
             ],
             [
              0.5555555555555556,
              "#d8576b"
             ],
             [
              0.6666666666666666,
              "#ed7953"
             ],
             [
              0.7777777777777778,
              "#fb9f3a"
             ],
             [
              0.8888888888888888,
              "#fdca26"
             ],
             [
              1,
              "#f0f921"
             ]
            ],
            "type": "heatmapgl"
           }
          ],
          "histogram": [
           {
            "marker": {
             "pattern": {
              "fillmode": "overlay",
              "size": 10,
              "solidity": 0.2
             }
            },
            "type": "histogram"
           }
          ],
          "histogram2d": [
           {
            "colorbar": {
             "outlinewidth": 0,
             "ticks": ""
            },
            "colorscale": [
             [
              0,
              "#0d0887"
             ],
             [
              0.1111111111111111,
              "#46039f"
             ],
             [
              0.2222222222222222,
              "#7201a8"
             ],
             [
              0.3333333333333333,
              "#9c179e"
             ],
             [
              0.4444444444444444,
              "#bd3786"
             ],
             [
              0.5555555555555556,
              "#d8576b"
             ],
             [
              0.6666666666666666,
              "#ed7953"
             ],
             [
              0.7777777777777778,
              "#fb9f3a"
             ],
             [
              0.8888888888888888,
              "#fdca26"
             ],
             [
              1,
              "#f0f921"
             ]
            ],
            "type": "histogram2d"
           }
          ],
          "histogram2dcontour": [
           {
            "colorbar": {
             "outlinewidth": 0,
             "ticks": ""
            },
            "colorscale": [
             [
              0,
              "#0d0887"
             ],
             [
              0.1111111111111111,
              "#46039f"
             ],
             [
              0.2222222222222222,
              "#7201a8"
             ],
             [
              0.3333333333333333,
              "#9c179e"
             ],
             [
              0.4444444444444444,
              "#bd3786"
             ],
             [
              0.5555555555555556,
              "#d8576b"
             ],
             [
              0.6666666666666666,
              "#ed7953"
             ],
             [
              0.7777777777777778,
              "#fb9f3a"
             ],
             [
              0.8888888888888888,
              "#fdca26"
             ],
             [
              1,
              "#f0f921"
             ]
            ],
            "type": "histogram2dcontour"
           }
          ],
          "mesh3d": [
           {
            "colorbar": {
             "outlinewidth": 0,
             "ticks": ""
            },
            "type": "mesh3d"
           }
          ],
          "parcoords": [
           {
            "line": {
             "colorbar": {
              "outlinewidth": 0,
              "ticks": ""
             }
            },
            "type": "parcoords"
           }
          ],
          "pie": [
           {
            "automargin": true,
            "type": "pie"
           }
          ],
          "scatter": [
           {
            "fillpattern": {
             "fillmode": "overlay",
             "size": 10,
             "solidity": 0.2
            },
            "type": "scatter"
           }
          ],
          "scatter3d": [
           {
            "line": {
             "colorbar": {
              "outlinewidth": 0,
              "ticks": ""
             }
            },
            "marker": {
             "colorbar": {
              "outlinewidth": 0,
              "ticks": ""
             }
            },
            "type": "scatter3d"
           }
          ],
          "scattercarpet": [
           {
            "marker": {
             "colorbar": {
              "outlinewidth": 0,
              "ticks": ""
             }
            },
            "type": "scattercarpet"
           }
          ],
          "scattergeo": [
           {
            "marker": {
             "colorbar": {
              "outlinewidth": 0,
              "ticks": ""
             }
            },
            "type": "scattergeo"
           }
          ],
          "scattergl": [
           {
            "marker": {
             "colorbar": {
              "outlinewidth": 0,
              "ticks": ""
             }
            },
            "type": "scattergl"
           }
          ],
          "scattermapbox": [
           {
            "marker": {
             "colorbar": {
              "outlinewidth": 0,
              "ticks": ""
             }
            },
            "type": "scattermapbox"
           }
          ],
          "scatterpolar": [
           {
            "marker": {
             "colorbar": {
              "outlinewidth": 0,
              "ticks": ""
             }
            },
            "type": "scatterpolar"
           }
          ],
          "scatterpolargl": [
           {
            "marker": {
             "colorbar": {
              "outlinewidth": 0,
              "ticks": ""
             }
            },
            "type": "scatterpolargl"
           }
          ],
          "scatterternary": [
           {
            "marker": {
             "colorbar": {
              "outlinewidth": 0,
              "ticks": ""
             }
            },
            "type": "scatterternary"
           }
          ],
          "surface": [
           {
            "colorbar": {
             "outlinewidth": 0,
             "ticks": ""
            },
            "colorscale": [
             [
              0,
              "#0d0887"
             ],
             [
              0.1111111111111111,
              "#46039f"
             ],
             [
              0.2222222222222222,
              "#7201a8"
             ],
             [
              0.3333333333333333,
              "#9c179e"
             ],
             [
              0.4444444444444444,
              "#bd3786"
             ],
             [
              0.5555555555555556,
              "#d8576b"
             ],
             [
              0.6666666666666666,
              "#ed7953"
             ],
             [
              0.7777777777777778,
              "#fb9f3a"
             ],
             [
              0.8888888888888888,
              "#fdca26"
             ],
             [
              1,
              "#f0f921"
             ]
            ],
            "type": "surface"
           }
          ],
          "table": [
           {
            "cells": {
             "fill": {
              "color": "#EBF0F8"
             },
             "line": {
              "color": "white"
             }
            },
            "header": {
             "fill": {
              "color": "#C8D4E3"
             },
             "line": {
              "color": "white"
             }
            },
            "type": "table"
           }
          ]
         },
         "layout": {
          "annotationdefaults": {
           "arrowcolor": "#2a3f5f",
           "arrowhead": 0,
           "arrowwidth": 1
          },
          "autotypenumbers": "strict",
          "coloraxis": {
           "colorbar": {
            "outlinewidth": 0,
            "ticks": ""
           }
          },
          "colorscale": {
           "diverging": [
            [
             0,
             "#8e0152"
            ],
            [
             0.1,
             "#c51b7d"
            ],
            [
             0.2,
             "#de77ae"
            ],
            [
             0.3,
             "#f1b6da"
            ],
            [
             0.4,
             "#fde0ef"
            ],
            [
             0.5,
             "#f7f7f7"
            ],
            [
             0.6,
             "#e6f5d0"
            ],
            [
             0.7,
             "#b8e186"
            ],
            [
             0.8,
             "#7fbc41"
            ],
            [
             0.9,
             "#4d9221"
            ],
            [
             1,
             "#276419"
            ]
           ],
           "sequential": [
            [
             0,
             "#0d0887"
            ],
            [
             0.1111111111111111,
             "#46039f"
            ],
            [
             0.2222222222222222,
             "#7201a8"
            ],
            [
             0.3333333333333333,
             "#9c179e"
            ],
            [
             0.4444444444444444,
             "#bd3786"
            ],
            [
             0.5555555555555556,
             "#d8576b"
            ],
            [
             0.6666666666666666,
             "#ed7953"
            ],
            [
             0.7777777777777778,
             "#fb9f3a"
            ],
            [
             0.8888888888888888,
             "#fdca26"
            ],
            [
             1,
             "#f0f921"
            ]
           ],
           "sequentialminus": [
            [
             0,
             "#0d0887"
            ],
            [
             0.1111111111111111,
             "#46039f"
            ],
            [
             0.2222222222222222,
             "#7201a8"
            ],
            [
             0.3333333333333333,
             "#9c179e"
            ],
            [
             0.4444444444444444,
             "#bd3786"
            ],
            [
             0.5555555555555556,
             "#d8576b"
            ],
            [
             0.6666666666666666,
             "#ed7953"
            ],
            [
             0.7777777777777778,
             "#fb9f3a"
            ],
            [
             0.8888888888888888,
             "#fdca26"
            ],
            [
             1,
             "#f0f921"
            ]
           ]
          },
          "colorway": [
           "#636efa",
           "#EF553B",
           "#00cc96",
           "#ab63fa",
           "#FFA15A",
           "#19d3f3",
           "#FF6692",
           "#B6E880",
           "#FF97FF",
           "#FECB52"
          ],
          "font": {
           "color": "#2a3f5f"
          },
          "geo": {
           "bgcolor": "white",
           "lakecolor": "white",
           "landcolor": "#E5ECF6",
           "showlakes": true,
           "showland": true,
           "subunitcolor": "white"
          },
          "hoverlabel": {
           "align": "left"
          },
          "hovermode": "closest",
          "mapbox": {
           "style": "light"
          },
          "paper_bgcolor": "white",
          "plot_bgcolor": "#E5ECF6",
          "polar": {
           "angularaxis": {
            "gridcolor": "white",
            "linecolor": "white",
            "ticks": ""
           },
           "bgcolor": "#E5ECF6",
           "radialaxis": {
            "gridcolor": "white",
            "linecolor": "white",
            "ticks": ""
           }
          },
          "scene": {
           "xaxis": {
            "backgroundcolor": "#E5ECF6",
            "gridcolor": "white",
            "gridwidth": 2,
            "linecolor": "white",
            "showbackground": true,
            "ticks": "",
            "zerolinecolor": "white"
           },
           "yaxis": {
            "backgroundcolor": "#E5ECF6",
            "gridcolor": "white",
            "gridwidth": 2,
            "linecolor": "white",
            "showbackground": true,
            "ticks": "",
            "zerolinecolor": "white"
           },
           "zaxis": {
            "backgroundcolor": "#E5ECF6",
            "gridcolor": "white",
            "gridwidth": 2,
            "linecolor": "white",
            "showbackground": true,
            "ticks": "",
            "zerolinecolor": "white"
           }
          },
          "shapedefaults": {
           "line": {
            "color": "#2a3f5f"
           }
          },
          "ternary": {
           "aaxis": {
            "gridcolor": "white",
            "linecolor": "white",
            "ticks": ""
           },
           "baxis": {
            "gridcolor": "white",
            "linecolor": "white",
            "ticks": ""
           },
           "bgcolor": "#E5ECF6",
           "caxis": {
            "gridcolor": "white",
            "linecolor": "white",
            "ticks": ""
           }
          },
          "title": {
           "x": 0.05
          },
          "xaxis": {
           "automargin": true,
           "gridcolor": "white",
           "linecolor": "white",
           "ticks": "",
           "title": {
            "standoff": 15
           },
           "zerolinecolor": "white",
           "zerolinewidth": 2
          },
          "yaxis": {
           "automargin": true,
           "gridcolor": "white",
           "linecolor": "white",
           "ticks": "",
           "title": {
            "standoff": 15
           },
           "zerolinecolor": "white",
           "zerolinewidth": 2
          }
         }
        },
        "title": {
         "text": "Job Satisfaction Distribution by Attrition"
        },
        "violinmode": "overlay",
        "xaxis": {
         "anchor": "y",
         "categoryarray": [
          1,
          0
         ],
         "categoryorder": "array",
         "domain": [
          0,
          1
         ],
         "title": {
          "text": "Attrition (Yes=1/No=0)"
         }
        },
        "yaxis": {
         "anchor": "x",
         "domain": [
          0,
          1
         ],
         "title": {
          "text": "Job Satisfaction"
         }
        }
       }
      }
     },
     "metadata": {},
     "output_type": "display_data"
    }
   ],
   "source": [
    "# 6. Violin Plot: Job Satisfaction Distribution by Attrition\n",
    "fig_violin_satisfaction = px.violin(\n",
    "    df,\n",
    "    x=\"Attrition\",\n",
    "    y=\"JobSatisfaction\",\n",
    "    color=\"Attrition\",\n",
    "    box=True,\n",
    "    points=\"all\",\n",
    "    labels={\"Attrition\": \"Attrition (Yes=1/No=0)\", \"JobSatisfaction\": \"Job Satisfaction\"},\n",
    "    title=\"Job Satisfaction Distribution by Attrition\",\n",
    "    color_discrete_map={\"1\": \"#d53e4f\", \"0\": \"#3288bd\"}  \n",
    ")\n",
    "fig_violin_satisfaction.update_layout(plot_bgcolor=\"#E9D8D6\", paper_bgcolor=\"#E9D8D6\", showlegend=False)\n",
    "fig_violin_satisfaction.show()"
   ]
  },
  {
   "cell_type": "markdown",
   "metadata": {},
   "source": [
    "**Insight**: Employees who left the company generally report lower job satisfaction compared to those who stayed.\n",
    "The job satisfaction scores are concentrated in lower ranges (1-2) for employees who left, suggesting dissatisfaction is a major contributor to attrition."
   ]
  },
  {
   "cell_type": "markdown",
   "metadata": {},
   "source": [
    "**To be conclude**\n",
    "The analysis reveals that job satisfaction, time since last promotion, and department significantly impact attrition. Employees in HR and Sales, particularly those without recent promotions and reporting low satisfaction, are at higher risk of leaving. Organizations should focus on improving promotion opportunities, addressing department-specific concerns, and enhancing job satisfaction to improve retention."
   ]
  },
  {
   "cell_type": "markdown",
   "metadata": {},
   "source": [
    "## 10. Reflective Evaluation\n",
    "This project introduced me to new tools and concepts, requiring me to learn and adapt quickly. Dash was entirely unfamiliar, and I struggled with creating interactivity and customizing the layout. Data preprocessing posed its own challenges, particularly encoding categorical variables. Iteratively refining visualizations also taught me the importance of balancing clarity with complexity. Despite these challenges, I developed critical problem-solving skills, grew more confident with Python's visualization libraries, and gained valuable experience working on real-world HR analytics problems. The ability to create a functional, interactive dashboard was a significant milestone in my learning journey."
   ]
  },
  {
   "cell_type": "markdown",
   "metadata": {},
   "source": [
    "## 11. Conclusion\n",
    "The Human Resource Attrition Analytics Dashboard effectively visualizes key insights into employee attrition. It highlights critical trends in demographics, satisfaction metrics, and job-specific factors, empowering HR professionals to make data-driven decisions. This project strengthened my analytical and technical skills, showcasing the value of combining data analysis with clear, interactive visualizations to address organizational challenges."
   ]
  },
  {
   "cell_type": "markdown",
   "metadata": {},
   "source": [
    "## 12. References\n",
    "\n",
    "Cairo, A. (2016). The Truthful Art: Data, Charts, and Maps for Communication. New Riders.\n",
    "\n",
    "Few, S. (2012). Show Me the Numbers: Designing Tables and Graphs to Enlighten (2nd ed.). Analytics Press.\n",
    "\n",
    "IBM. (2021). IBM HR Analytics Employee Attrition & Performance Dataset. Retrieved from Kaggle: https://www.kaggle.com/datasets/pavansubhasht/ibm-hr-analytics-attrition-dataset\n",
    "\n",
    "Tufte, E. R. (2001). The Visual Display of Quantitative Information (2nd ed.). Graphics Press."
   ]
  }
 ],
 "metadata": {
  "kernelspec": {
   "display_name": "base",
   "language": "python",
   "name": "python3"
  },
  "language_info": {
   "codemirror_mode": {
    "name": "ipython",
    "version": 3
   },
   "file_extension": ".py",
   "mimetype": "text/x-python",
   "name": "python",
   "nbconvert_exporter": "python",
   "pygments_lexer": "ipython3",
   "version": "3.12.4"
  },
  "orig_nbformat": 4
 },
 "nbformat": 4,
 "nbformat_minor": 2
}
